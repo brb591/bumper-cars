{
  "nbformat": 4,
  "nbformat_minor": 0,
  "metadata": {
    "colab": {
      "name": "Original_Classification_draft1.ipynb",
      "provenance": [],
      "collapsed_sections": []
    },
    "kernelspec": {
      "name": "python3",
      "display_name": "Python 3"
    },
    "language_info": {
      "name": "python"
    },
    "accelerator": "GPU",
    "widgets": {
      "application/vnd.jupyter.widget-state+json": {
        "fd4173a1b7fe415da38f738ecb483a30": {
          "model_module": "@jupyter-widgets/controls",
          "model_name": "HBoxModel",
          "state": {
            "_view_name": "HBoxView",
            "_dom_classes": [],
            "_model_name": "HBoxModel",
            "_view_module": "@jupyter-widgets/controls",
            "_model_module_version": "1.5.0",
            "_view_count": null,
            "_view_module_version": "1.5.0",
            "box_style": "",
            "layout": "IPY_MODEL_b6d11b1346344bf18bda1ed3cdcc99c9",
            "_model_module": "@jupyter-widgets/controls",
            "children": [
              "IPY_MODEL_e5148501ac394eeeaa6bd4a77ebd8e90",
              "IPY_MODEL_eeb950617b6b4ac6ab3b9fb91bd79e8d"
            ]
          }
        },
        "b6d11b1346344bf18bda1ed3cdcc99c9": {
          "model_module": "@jupyter-widgets/base",
          "model_name": "LayoutModel",
          "state": {
            "_view_name": "LayoutView",
            "grid_template_rows": null,
            "right": null,
            "justify_content": null,
            "_view_module": "@jupyter-widgets/base",
            "overflow": null,
            "_model_module_version": "1.2.0",
            "_view_count": null,
            "flex_flow": null,
            "width": null,
            "min_width": null,
            "border": null,
            "align_items": null,
            "bottom": null,
            "_model_module": "@jupyter-widgets/base",
            "top": null,
            "grid_column": null,
            "overflow_y": null,
            "overflow_x": null,
            "grid_auto_flow": null,
            "grid_area": null,
            "grid_template_columns": null,
            "flex": null,
            "_model_name": "LayoutModel",
            "justify_items": null,
            "grid_row": null,
            "max_height": null,
            "align_content": null,
            "visibility": null,
            "align_self": null,
            "height": null,
            "min_height": null,
            "padding": null,
            "grid_auto_rows": null,
            "grid_gap": null,
            "max_width": null,
            "order": null,
            "_view_module_version": "1.2.0",
            "grid_template_areas": null,
            "object_position": null,
            "object_fit": null,
            "grid_auto_columns": null,
            "margin": null,
            "display": null,
            "left": null
          }
        },
        "e5148501ac394eeeaa6bd4a77ebd8e90": {
          "model_module": "@jupyter-widgets/controls",
          "model_name": "FloatProgressModel",
          "state": {
            "_view_name": "ProgressView",
            "style": "IPY_MODEL_2eee7a46e9cf4f63aaa55e2bb0322ff6",
            "_dom_classes": [],
            "description": "100%",
            "_model_name": "FloatProgressModel",
            "bar_style": "success",
            "max": 87306240,
            "_view_module": "@jupyter-widgets/controls",
            "_model_module_version": "1.5.0",
            "value": 87306240,
            "_view_count": null,
            "_view_module_version": "1.5.0",
            "orientation": "horizontal",
            "min": 0,
            "description_tooltip": null,
            "_model_module": "@jupyter-widgets/controls",
            "layout": "IPY_MODEL_39fe8bb69d934195a5953c479701acd7"
          }
        },
        "eeb950617b6b4ac6ab3b9fb91bd79e8d": {
          "model_module": "@jupyter-widgets/controls",
          "model_name": "HTMLModel",
          "state": {
            "_view_name": "HTMLView",
            "style": "IPY_MODEL_ecbdf936d3644354aea7a306feaf74ee",
            "_dom_classes": [],
            "description": "",
            "_model_name": "HTMLModel",
            "placeholder": "​",
            "_view_module": "@jupyter-widgets/controls",
            "_model_module_version": "1.5.0",
            "value": " 83.3M/83.3M [00:43&lt;00:00, 2.01MB/s]",
            "_view_count": null,
            "_view_module_version": "1.5.0",
            "description_tooltip": null,
            "_model_module": "@jupyter-widgets/controls",
            "layout": "IPY_MODEL_23d8bdc3c4c143f091797522964a99b3"
          }
        },
        "2eee7a46e9cf4f63aaa55e2bb0322ff6": {
          "model_module": "@jupyter-widgets/controls",
          "model_name": "ProgressStyleModel",
          "state": {
            "_view_name": "StyleView",
            "_model_name": "ProgressStyleModel",
            "description_width": "initial",
            "_view_module": "@jupyter-widgets/base",
            "_model_module_version": "1.5.0",
            "_view_count": null,
            "_view_module_version": "1.2.0",
            "bar_color": null,
            "_model_module": "@jupyter-widgets/controls"
          }
        },
        "39fe8bb69d934195a5953c479701acd7": {
          "model_module": "@jupyter-widgets/base",
          "model_name": "LayoutModel",
          "state": {
            "_view_name": "LayoutView",
            "grid_template_rows": null,
            "right": null,
            "justify_content": null,
            "_view_module": "@jupyter-widgets/base",
            "overflow": null,
            "_model_module_version": "1.2.0",
            "_view_count": null,
            "flex_flow": null,
            "width": null,
            "min_width": null,
            "border": null,
            "align_items": null,
            "bottom": null,
            "_model_module": "@jupyter-widgets/base",
            "top": null,
            "grid_column": null,
            "overflow_y": null,
            "overflow_x": null,
            "grid_auto_flow": null,
            "grid_area": null,
            "grid_template_columns": null,
            "flex": null,
            "_model_name": "LayoutModel",
            "justify_items": null,
            "grid_row": null,
            "max_height": null,
            "align_content": null,
            "visibility": null,
            "align_self": null,
            "height": null,
            "min_height": null,
            "padding": null,
            "grid_auto_rows": null,
            "grid_gap": null,
            "max_width": null,
            "order": null,
            "_view_module_version": "1.2.0",
            "grid_template_areas": null,
            "object_position": null,
            "object_fit": null,
            "grid_auto_columns": null,
            "margin": null,
            "display": null,
            "left": null
          }
        },
        "ecbdf936d3644354aea7a306feaf74ee": {
          "model_module": "@jupyter-widgets/controls",
          "model_name": "DescriptionStyleModel",
          "state": {
            "_view_name": "StyleView",
            "_model_name": "DescriptionStyleModel",
            "description_width": "",
            "_view_module": "@jupyter-widgets/base",
            "_model_module_version": "1.5.0",
            "_view_count": null,
            "_view_module_version": "1.2.0",
            "_model_module": "@jupyter-widgets/controls"
          }
        },
        "23d8bdc3c4c143f091797522964a99b3": {
          "model_module": "@jupyter-widgets/base",
          "model_name": "LayoutModel",
          "state": {
            "_view_name": "LayoutView",
            "grid_template_rows": null,
            "right": null,
            "justify_content": null,
            "_view_module": "@jupyter-widgets/base",
            "overflow": null,
            "_model_module_version": "1.2.0",
            "_view_count": null,
            "flex_flow": null,
            "width": null,
            "min_width": null,
            "border": null,
            "align_items": null,
            "bottom": null,
            "_model_module": "@jupyter-widgets/base",
            "top": null,
            "grid_column": null,
            "overflow_y": null,
            "overflow_x": null,
            "grid_auto_flow": null,
            "grid_area": null,
            "grid_template_columns": null,
            "flex": null,
            "_model_name": "LayoutModel",
            "justify_items": null,
            "grid_row": null,
            "max_height": null,
            "align_content": null,
            "visibility": null,
            "align_self": null,
            "height": null,
            "min_height": null,
            "padding": null,
            "grid_auto_rows": null,
            "grid_gap": null,
            "max_width": null,
            "order": null,
            "_view_module_version": "1.2.0",
            "grid_template_areas": null,
            "object_position": null,
            "object_fit": null,
            "grid_auto_columns": null,
            "margin": null,
            "display": null,
            "left": null
          }
        }
      }
    }
  },
  "cells": [
    {
      "cell_type": "code",
      "metadata": {
        "colab": {
          "base_uri": "https://localhost:8080/"
        },
        "id": "6FTJIQLS3QcS",
        "outputId": "0c871548-547a-45e3-a14c-ee7cc277d76a"
      },
      "source": [
        "from google.colab import drive\n",
        "drive.mount('/content/drive')"
      ],
      "execution_count": null,
      "outputs": [
        {
          "output_type": "stream",
          "text": [
            "Mounted at /content/drive\n"
          ],
          "name": "stdout"
        }
      ]
    },
    {
      "cell_type": "code",
      "metadata": {
        "id": "y_wQaBQK_CqA"
      },
      "source": [
        "!cp -r \"/content/drive/MyDrive/training 2.zip\" /content/"
      ],
      "execution_count": null,
      "outputs": []
    },
    {
      "cell_type": "code",
      "metadata": {
        "id": "cgNbquI3AgLD",
        "colab": {
          "base_uri": "https://localhost:8080/"
        },
        "outputId": "36da847a-b912-4b5d-aa0d-f0902eebfc89"
      },
      "source": [
        "!unzip \"/content/training 2.zip\""
      ],
      "execution_count": null,
      "outputs": [
        {
          "output_type": "stream",
          "text": [
            "Archive:  /content/training 2.zip\n",
            "   creating: training 2/\n",
            "   creating: training 2/NotOk/\n",
            "  inflating: training 2/NotOk/.DS_Store  \n",
            "   creating: __MACOSX/\n",
            "   creating: __MACOSX/training 2/\n",
            "   creating: __MACOSX/training 2/NotOk/\n",
            "  inflating: __MACOSX/training 2/NotOk/._.DS_Store  \n",
            "   creating: training 2/NotOk/Cart_obstacles/\n",
            "  inflating: training 2/NotOk/Cart_obstacles/carts_obstacles2_2.jpg  \n",
            "   creating: __MACOSX/training 2/NotOk/Cart_obstacles/\n",
            "  inflating: __MACOSX/training 2/NotOk/Cart_obstacles/._carts_obstacles2_2.jpg  \n",
            "  inflating: training 2/NotOk/Cart_obstacles/carts_obstacles4_4.jpg  \n",
            "  inflating: __MACOSX/training 2/NotOk/Cart_obstacles/._carts_obstacles4_4.jpg  \n",
            "  inflating: training 2/NotOk/Cart_obstacles/obstacles2_6.jpg  \n",
            "  inflating: __MACOSX/training 2/NotOk/Cart_obstacles/._obstacles2_6.jpg  \n",
            "  inflating: training 2/NotOk/Cart_obstacles/carts_obstacles4_5.jpg  \n",
            "  inflating: __MACOSX/training 2/NotOk/Cart_obstacles/._carts_obstacles4_5.jpg  \n",
            "  inflating: training 2/NotOk/Cart_obstacles/carts_obstacles2_3.jpg  \n",
            "  inflating: __MACOSX/training 2/NotOk/Cart_obstacles/._carts_obstacles2_3.jpg  \n",
            "  inflating: training 2/NotOk/Cart_obstacles/carts_obstacles2_1.jpg  \n",
            "  inflating: __MACOSX/training 2/NotOk/Cart_obstacles/._carts_obstacles2_1.jpg  \n",
            "  inflating: training 2/NotOk/Cart_obstacles/obstacles2_4.jpg  \n",
            "  inflating: __MACOSX/training 2/NotOk/Cart_obstacles/._obstacles2_4.jpg  \n",
            "  inflating: training 2/NotOk/Cart_obstacles/obstacles2_5.jpg  \n",
            "  inflating: __MACOSX/training 2/NotOk/Cart_obstacles/._obstacles2_5.jpg  \n",
            "  inflating: training 2/NotOk/Cart_obstacles/carts_obstacles4_6.jpg  \n",
            "  inflating: __MACOSX/training 2/NotOk/Cart_obstacles/._carts_obstacles4_6.jpg  \n",
            "  inflating: training 2/NotOk/Cart_obstacles/carts_obstacles2_4.jpg  \n",
            "  inflating: __MACOSX/training 2/NotOk/Cart_obstacles/._carts_obstacles2_4.jpg  \n",
            "  inflating: training 2/NotOk/Cart_obstacles/carts_obstacles4_2.jpg  \n",
            "  inflating: __MACOSX/training 2/NotOk/Cart_obstacles/._carts_obstacles4_2.jpg  \n",
            "  inflating: training 2/NotOk/Cart_obstacles/obstacles2_1.jpg  \n",
            "  inflating: __MACOSX/training 2/NotOk/Cart_obstacles/._obstacles2_1.jpg  \n",
            "  inflating: training 2/NotOk/Cart_obstacles/carts_obstacles4_3.jpg  \n",
            "  inflating: __MACOSX/training 2/NotOk/Cart_obstacles/._carts_obstacles4_3.jpg  \n",
            "  inflating: training 2/NotOk/Cart_obstacles/carts_obstacles2_5.jpg  \n",
            "  inflating: __MACOSX/training 2/NotOk/Cart_obstacles/._carts_obstacles2_5.jpg  \n",
            "  inflating: training 2/NotOk/Cart_obstacles/carts_obstacles4_1.jpg  \n",
            "  inflating: __MACOSX/training 2/NotOk/Cart_obstacles/._carts_obstacles4_1.jpg  \n",
            "  inflating: training 2/NotOk/Cart_obstacles/obstacles2_2.jpg  \n",
            "  inflating: __MACOSX/training 2/NotOk/Cart_obstacles/._obstacles2_2.jpg  \n",
            "  inflating: training 2/NotOk/Cart_obstacles/obstacles2_3.jpg  \n",
            "  inflating: __MACOSX/training 2/NotOk/Cart_obstacles/._obstacles2_3.jpg  \n",
            "  inflating: training 2/NotOk/Cart_obstacles/carts_obstacles2_6.jpg  \n",
            "  inflating: __MACOSX/training 2/NotOk/Cart_obstacles/._carts_obstacles2_6.jpg  \n",
            "  inflating: training 2/NotOk/Cart_obstacles/obstacles1_6.jpg  \n",
            "  inflating: __MACOSX/training 2/NotOk/Cart_obstacles/._obstacles1_6.jpg  \n",
            "  inflating: training 2/NotOk/Cart_obstacles/carts_obstacles3.jpg  \n",
            "  inflating: __MACOSX/training 2/NotOk/Cart_obstacles/._carts_obstacles3.jpg  \n",
            "  inflating: training 2/NotOk/Cart_obstacles/carts_obstacles3_1.jpg  \n",
            "  inflating: __MACOSX/training 2/NotOk/Cart_obstacles/._carts_obstacles3_1.jpg  \n",
            "  inflating: training 2/NotOk/Cart_obstacles/carts_obstacles1_3.jpg  \n",
            "  inflating: __MACOSX/training 2/NotOk/Cart_obstacles/._carts_obstacles1_3.jpg  \n",
            "  inflating: training 2/NotOk/Cart_obstacles/carts_obstacles1_2.jpg  \n",
            "  inflating: __MACOSX/training 2/NotOk/Cart_obstacles/._carts_obstacles1_2.jpg  \n",
            "  inflating: training 2/NotOk/Cart_obstacles/carts_obstacles2.jpg  \n",
            "  inflating: __MACOSX/training 2/NotOk/Cart_obstacles/._carts_obstacles2.jpg  \n",
            "  inflating: training 2/NotOk/Cart_obstacles/carts_obstacles5_6.jpg  \n",
            "  inflating: __MACOSX/training 2/NotOk/Cart_obstacles/._carts_obstacles5_6.jpg  \n",
            "  inflating: training 2/NotOk/Cart_obstacles/obstacles1_5.jpg  \n",
            "  inflating: __MACOSX/training 2/NotOk/Cart_obstacles/._obstacles1_5.jpg  \n",
            "  inflating: training 2/NotOk/Cart_obstacles/carts_obstacles5_4.jpg  \n",
            "  inflating: __MACOSX/training 2/NotOk/Cart_obstacles/._carts_obstacles5_4.jpg  \n",
            "  inflating: training 2/NotOk/Cart_obstacles/carts_obstacles3_2.jpg  \n",
            "  inflating: __MACOSX/training 2/NotOk/Cart_obstacles/._carts_obstacles3_2.jpg  \n",
            "  inflating: training 2/NotOk/Cart_obstacles/carts_obstacles1_1.jpg  \n",
            "  inflating: __MACOSX/training 2/NotOk/Cart_obstacles/._carts_obstacles1_1.jpg  \n",
            "  inflating: training 2/NotOk/Cart_obstacles/carts_obstacles3_3.jpg  \n",
            "  inflating: __MACOSX/training 2/NotOk/Cart_obstacles/._carts_obstacles3_3.jpg  \n",
            "  inflating: training 2/NotOk/Cart_obstacles/carts_obstacles1.jpg  \n",
            "  inflating: __MACOSX/training 2/NotOk/Cart_obstacles/._carts_obstacles1.jpg  \n",
            "  inflating: training 2/NotOk/Cart_obstacles/carts_obstacles5_5.jpg  \n",
            "  inflating: __MACOSX/training 2/NotOk/Cart_obstacles/._carts_obstacles5_5.jpg  \n",
            "  inflating: training 2/NotOk/Cart_obstacles/obstacles1_4.jpg  \n",
            "  inflating: __MACOSX/training 2/NotOk/Cart_obstacles/._obstacles1_4.jpg  \n",
            "  inflating: training 2/NotOk/Cart_obstacles/carts_obstacles5_1.jpg  \n",
            "  inflating: __MACOSX/training 2/NotOk/Cart_obstacles/._carts_obstacles5_1.jpg  \n",
            "  inflating: training 2/NotOk/Cart_obstacles/carts_obstacles5.jpg  \n",
            "  inflating: __MACOSX/training 2/NotOk/Cart_obstacles/._carts_obstacles5.jpg  \n",
            "  inflating: training 2/NotOk/Cart_obstacles/carts_obstacles1_5.jpg  \n",
            "  inflating: __MACOSX/training 2/NotOk/Cart_obstacles/._carts_obstacles1_5.jpg  \n",
            "  inflating: training 2/NotOk/Cart_obstacles/carts_obstacles1_4.jpg  \n",
            "  inflating: __MACOSX/training 2/NotOk/Cart_obstacles/._carts_obstacles1_4.jpg  \n",
            "  inflating: training 2/NotOk/Cart_obstacles/carts_obstacles3_6.jpg  \n",
            "  inflating: __MACOSX/training 2/NotOk/Cart_obstacles/._carts_obstacles3_6.jpg  \n",
            "  inflating: training 2/NotOk/Cart_obstacles/carts_obstacles4.jpg  \n",
            "  inflating: __MACOSX/training 2/NotOk/Cart_obstacles/._carts_obstacles4.jpg  \n",
            "  inflating: training 2/NotOk/Cart_obstacles/obstacles1_1.jpg  \n",
            "  inflating: __MACOSX/training 2/NotOk/Cart_obstacles/._obstacles1_1.jpg  \n",
            "  inflating: training 2/NotOk/Cart_obstacles/carts_obstacles5_2.jpg  \n",
            "  inflating: __MACOSX/training 2/NotOk/Cart_obstacles/._carts_obstacles5_2.jpg  \n",
            "  inflating: training 2/NotOk/Cart_obstacles/obstacles1_3.jpg  \n",
            "  inflating: __MACOSX/training 2/NotOk/Cart_obstacles/._obstacles1_3.jpg  \n",
            "  inflating: training 2/NotOk/Cart_obstacles/carts_obstacles3_4.jpg  \n",
            "  inflating: __MACOSX/training 2/NotOk/Cart_obstacles/._carts_obstacles3_4.jpg  \n",
            "  inflating: training 2/NotOk/Cart_obstacles/carts_obstacles1_6.jpg  \n",
            "  inflating: __MACOSX/training 2/NotOk/Cart_obstacles/._carts_obstacles1_6.jpg  \n",
            "  inflating: training 2/NotOk/Cart_obstacles/carts_obstacles3_5.jpg  \n",
            "  inflating: __MACOSX/training 2/NotOk/Cart_obstacles/._carts_obstacles3_5.jpg  \n",
            "  inflating: training 2/NotOk/Cart_obstacles/obstacles1_2.jpg  \n",
            "  inflating: __MACOSX/training 2/NotOk/Cart_obstacles/._obstacles1_2.jpg  \n",
            "  inflating: training 2/NotOk/Cart_obstacles/carts_obstacles5_3.jpg  \n",
            "  inflating: __MACOSX/training 2/NotOk/Cart_obstacles/._carts_obstacles5_3.jpg  \n",
            "  inflating: training 2/NotOk/Cart_obstacles/obstacles1.jpg  \n",
            "  inflating: __MACOSX/training 2/NotOk/Cart_obstacles/._obstacles1.jpg  \n",
            "  inflating: training 2/NotOk/Cart_obstacles/carts1.jpg  \n",
            "  inflating: __MACOSX/training 2/NotOk/Cart_obstacles/._carts1.jpg  \n",
            "  inflating: training 2/NotOk/Cart_obstacles/obstacles2.jpg  \n",
            "  inflating: __MACOSX/training 2/NotOk/Cart_obstacles/._obstacles2.jpg  \n",
            "   creating: training 2/NotOk/Green_blue_Cart/\n",
            "  inflating: training 2/NotOk/Green_blue_Cart/TorusCart_lime_darkblue_rear1.jpg  \n",
            "   creating: __MACOSX/training 2/NotOk/Green_blue_Cart/\n",
            "  inflating: __MACOSX/training 2/NotOk/Green_blue_Cart/._TorusCart_lime_darkblue_rear1.jpg  \n",
            "  inflating: training 2/NotOk/Green_blue_Cart/TorusCart_lime_darkblue_rear3.jpg  \n",
            "  inflating: __MACOSX/training 2/NotOk/Green_blue_Cart/._TorusCart_lime_darkblue_rear3.jpg  \n",
            "  inflating: training 2/NotOk/Green_blue_Cart/TorusCart_lime_darkblue_rear2.jpg  \n",
            "  inflating: __MACOSX/training 2/NotOk/Green_blue_Cart/._TorusCart_lime_darkblue_rear2.jpg  \n",
            "  inflating: training 2/NotOk/Green_blue_Cart/TorusCart_lime_darkblue_rear6.jpg  \n",
            "  inflating: __MACOSX/training 2/NotOk/Green_blue_Cart/._TorusCart_lime_darkblue_rear6.jpg  \n",
            "  inflating: training 2/NotOk/Green_blue_Cart/TorusCart_lime_darkblue_rear5.jpg  \n",
            "  inflating: __MACOSX/training 2/NotOk/Green_blue_Cart/._TorusCart_lime_darkblue_rear5.jpg  \n",
            "  inflating: training 2/NotOk/Green_blue_Cart/TorusCart_lime_darkblue_rear4.jpg  \n",
            "  inflating: __MACOSX/training 2/NotOk/Green_blue_Cart/._TorusCart_lime_darkblue_rear4.jpg  \n",
            "  inflating: training 2/NotOk/Green_blue_Cart/TorusCart_lime_darkblue_left3.jpg  \n",
            "  inflating: __MACOSX/training 2/NotOk/Green_blue_Cart/._TorusCart_lime_darkblue_left3.jpg  \n",
            "  inflating: training 2/NotOk/Green_blue_Cart/TorusCart_lime_darkblue_right6.jpg  \n",
            "  inflating: __MACOSX/training 2/NotOk/Green_blue_Cart/._TorusCart_lime_darkblue_right6.jpg  \n",
            "  inflating: training 2/NotOk/Green_blue_Cart/TorusCart_lime_darkblue_left2.jpg  \n",
            "  inflating: __MACOSX/training 2/NotOk/Green_blue_Cart/._TorusCart_lime_darkblue_left2.jpg  \n",
            "  inflating: training 2/NotOk/Green_blue_Cart/TorusCart_lime_darkblue_right4.jpg  \n",
            "  inflating: __MACOSX/training 2/NotOk/Green_blue_Cart/._TorusCart_lime_darkblue_right4.jpg  \n",
            "  inflating: training 2/NotOk/Green_blue_Cart/TorusCart_lime_darkblue_right5.jpg  \n",
            "  inflating: __MACOSX/training 2/NotOk/Green_blue_Cart/._TorusCart_lime_darkblue_right5.jpg  \n",
            "  inflating: training 2/NotOk/Green_blue_Cart/TorusCart_lime_darkblue_left1.jpg  \n",
            "  inflating: __MACOSX/training 2/NotOk/Green_blue_Cart/._TorusCart_lime_darkblue_left1.jpg  \n",
            "  inflating: training 2/NotOk/Green_blue_Cart/TorusCart_lime_darkblue_left5.jpg  \n",
            "  inflating: __MACOSX/training 2/NotOk/Green_blue_Cart/._TorusCart_lime_darkblue_left5.jpg  \n",
            "  inflating: training 2/NotOk/Green_blue_Cart/TorusCart_lime_darkblue_right1.jpg  \n",
            "  inflating: __MACOSX/training 2/NotOk/Green_blue_Cart/._TorusCart_lime_darkblue_right1.jpg  \n",
            "  inflating: training 2/NotOk/Green_blue_Cart/TorusCart_lime_darkblue_left4.jpg  \n",
            "  inflating: __MACOSX/training 2/NotOk/Green_blue_Cart/._TorusCart_lime_darkblue_left4.jpg  \n",
            "  inflating: training 2/NotOk/Green_blue_Cart/TorusCart_lime_darkblue_left6.jpg  \n",
            "  inflating: __MACOSX/training 2/NotOk/Green_blue_Cart/._TorusCart_lime_darkblue_left6.jpg  \n",
            "  inflating: training 2/NotOk/Green_blue_Cart/TorusCart_lime_darkblue_right2.jpg  \n",
            "  inflating: __MACOSX/training 2/NotOk/Green_blue_Cart/._TorusCart_lime_darkblue_right2.jpg  \n",
            "  inflating: training 2/NotOk/Green_blue_Cart/TorusCart_lime_darkblue_right3.jpg  \n",
            "  inflating: __MACOSX/training 2/NotOk/Green_blue_Cart/._TorusCart_lime_darkblue_right3.jpg  \n",
            "  inflating: training 2/NotOk/Green_blue_Cart/TorusCart_lime_darkblue_front1.jpg  \n",
            "  inflating: __MACOSX/training 2/NotOk/Green_blue_Cart/._TorusCart_lime_darkblue_front1.jpg  \n",
            "  inflating: training 2/NotOk/Green_blue_Cart/TorusCart_lime_darkblue_front3.jpg  \n",
            "  inflating: __MACOSX/training 2/NotOk/Green_blue_Cart/._TorusCart_lime_darkblue_front3.jpg  \n",
            "  inflating: training 2/NotOk/Green_blue_Cart/TorusCart_lime_darkblue_front2.jpg  \n",
            "  inflating: __MACOSX/training 2/NotOk/Green_blue_Cart/._TorusCart_lime_darkblue_front2.jpg  \n",
            "  inflating: training 2/NotOk/Green_blue_Cart/TorusCart_lime_darkblue_front6.jpg  \n",
            "  inflating: __MACOSX/training 2/NotOk/Green_blue_Cart/._TorusCart_lime_darkblue_front6.jpg  \n",
            "  inflating: training 2/NotOk/Green_blue_Cart/TorusCart_lime_darkblue_front5.jpg  \n",
            "  inflating: __MACOSX/training 2/NotOk/Green_blue_Cart/._TorusCart_lime_darkblue_front5.jpg  \n",
            "  inflating: training 2/NotOk/Green_blue_Cart/TorusCart_lime_darkblue_front4.jpg  \n",
            "  inflating: __MACOSX/training 2/NotOk/Green_blue_Cart/._TorusCart_lime_darkblue_front4.jpg  \n",
            "  inflating: training 2/NotOk/Green_blue_Cart/TorusCart_lime_darkblue_rear.jpg  \n",
            "  inflating: __MACOSX/training 2/NotOk/Green_blue_Cart/._TorusCart_lime_darkblue_rear.jpg  \n",
            "  inflating: training 2/NotOk/Green_blue_Cart/TorusCart_lime_darkblue_left.jpg  \n",
            "  inflating: __MACOSX/training 2/NotOk/Green_blue_Cart/._TorusCart_lime_darkblue_left.jpg  \n",
            "  inflating: training 2/NotOk/Green_blue_Cart/TorusCart_lime_darkblue_front.jpg  \n",
            "  inflating: __MACOSX/training 2/NotOk/Green_blue_Cart/._TorusCart_lime_darkblue_front.jpg  \n",
            "  inflating: training 2/NotOk/Green_blue_Cart/TorusCart_lime_darkblue_right.jpg  \n",
            "  inflating: __MACOSX/training 2/NotOk/Green_blue_Cart/._TorusCart_lime_darkblue_right.jpg  \n",
            "   creating: training 2/NotOk/Lime_yellow_Cart/\n",
            "  inflating: training 2/NotOk/Lime_yellow_Cart/TorusCart_lime_yellow_left6.jpg  \n",
            "   creating: __MACOSX/training 2/NotOk/Lime_yellow_Cart/\n",
            "  inflating: __MACOSX/training 2/NotOk/Lime_yellow_Cart/._TorusCart_lime_yellow_left6.jpg  \n",
            "  inflating: training 2/NotOk/Lime_yellow_Cart/TorusCart_lime_yellow_right1.jpg  \n",
            "  inflating: __MACOSX/training 2/NotOk/Lime_yellow_Cart/._TorusCart_lime_yellow_right1.jpg  \n",
            "  inflating: training 2/NotOk/Lime_yellow_Cart/TorusCart_lime_yellow_left7.jpg  \n",
            "  inflating: __MACOSX/training 2/NotOk/Lime_yellow_Cart/._TorusCart_lime_yellow_left7.jpg  \n",
            "  inflating: training 2/NotOk/Lime_yellow_Cart/TorusCart_lime_yellow_left5.jpg  \n",
            "  inflating: __MACOSX/training 2/NotOk/Lime_yellow_Cart/._TorusCart_lime_yellow_left5.jpg  \n",
            "  inflating: training 2/NotOk/Lime_yellow_Cart/TorusCart_lime_yellow_right2.jpg  \n",
            "  inflating: __MACOSX/training 2/NotOk/Lime_yellow_Cart/._TorusCart_lime_yellow_right2.jpg  \n",
            "  inflating: training 2/NotOk/Lime_yellow_Cart/TorusCart_lime_yellow_right3.jpg  \n",
            "  inflating: __MACOSX/training 2/NotOk/Lime_yellow_Cart/._TorusCart_lime_yellow_right3.jpg  \n",
            "  inflating: training 2/NotOk/Lime_yellow_Cart/TorusCart_lime_yellow_left4.jpg  \n",
            "  inflating: __MACOSX/training 2/NotOk/Lime_yellow_Cart/._TorusCart_lime_yellow_left4.jpg  \n",
            "  inflating: training 2/NotOk/Lime_yellow_Cart/TorusCart_lime_yellow_right7.jpg  \n",
            "  inflating: __MACOSX/training 2/NotOk/Lime_yellow_Cart/._TorusCart_lime_yellow_right7.jpg  \n",
            "  inflating: training 2/NotOk/Lime_yellow_Cart/.DS_Store  \n",
            "  inflating: __MACOSX/training 2/NotOk/Lime_yellow_Cart/._.DS_Store  \n",
            "  inflating: training 2/NotOk/Lime_yellow_Cart/TorusCart_lime_yellow_right6.jpg  \n",
            "  inflating: __MACOSX/training 2/NotOk/Lime_yellow_Cart/._TorusCart_lime_yellow_right6.jpg  \n",
            "  inflating: training 2/NotOk/Lime_yellow_Cart/TorusCart_lime_yellow_left1.jpg  \n",
            "  inflating: __MACOSX/training 2/NotOk/Lime_yellow_Cart/._TorusCart_lime_yellow_left1.jpg  \n",
            "  inflating: training 2/NotOk/Lime_yellow_Cart/TorusCart_lime_yellow_left3.jpg  \n",
            "  inflating: __MACOSX/training 2/NotOk/Lime_yellow_Cart/._TorusCart_lime_yellow_left3.jpg  \n",
            "  inflating: training 2/NotOk/Lime_yellow_Cart/TorusCart_lime_yellow_right4.jpg  \n",
            "  inflating: __MACOSX/training 2/NotOk/Lime_yellow_Cart/._TorusCart_lime_yellow_right4.jpg  \n",
            "  inflating: training 2/NotOk/Lime_yellow_Cart/TorusCart_lime_yellow_right5.jpg  \n",
            "  inflating: __MACOSX/training 2/NotOk/Lime_yellow_Cart/._TorusCart_lime_yellow_right5.jpg  \n",
            "  inflating: training 2/NotOk/Lime_yellow_Cart/TorusCart_lime_yellow_left2.jpg  \n",
            "  inflating: __MACOSX/training 2/NotOk/Lime_yellow_Cart/._TorusCart_lime_yellow_left2.jpg  \n",
            "  inflating: training 2/NotOk/Lime_yellow_Cart/TorusCart_lime_yellow_rear5.jpg  \n",
            "  inflating: __MACOSX/training 2/NotOk/Lime_yellow_Cart/._TorusCart_lime_yellow_rear5.jpg  \n",
            "  inflating: training 2/NotOk/Lime_yellow_Cart/TorusCart_lime_yellow_rear4.jpg  \n",
            "  inflating: __MACOSX/training 2/NotOk/Lime_yellow_Cart/._TorusCart_lime_yellow_rear4.jpg  \n",
            "  inflating: training 2/NotOk/Lime_yellow_Cart/TorusCart_lime_yellow_rear6.jpg  \n",
            "  inflating: __MACOSX/training 2/NotOk/Lime_yellow_Cart/._TorusCart_lime_yellow_rear6.jpg  \n",
            "  inflating: training 2/NotOk/Lime_yellow_Cart/TorusCart_lime_yellow_rear7.jpg  \n",
            "  inflating: __MACOSX/training 2/NotOk/Lime_yellow_Cart/._TorusCart_lime_yellow_rear7.jpg  \n",
            "  inflating: training 2/NotOk/Lime_yellow_Cart/TorusCart_lime_yellow_rear3.jpg  \n",
            "  inflating: __MACOSX/training 2/NotOk/Lime_yellow_Cart/._TorusCart_lime_yellow_rear3.jpg  \n",
            "  inflating: training 2/NotOk/Lime_yellow_Cart/TorusCart_lime_yellow_rear2.jpg  \n",
            "  inflating: __MACOSX/training 2/NotOk/Lime_yellow_Cart/._TorusCart_lime_yellow_rear2.jpg  \n",
            "  inflating: training 2/NotOk/Lime_yellow_Cart/TorusCart_lime_yellow_rear1.jpg  \n",
            "  inflating: __MACOSX/training 2/NotOk/Lime_yellow_Cart/._TorusCart_lime_yellow_rear1.jpg  \n",
            "  inflating: training 2/NotOk/Lime_yellow_Cart/TorusCart_lime_yellow_front.jpg  \n",
            "  inflating: __MACOSX/training 2/NotOk/Lime_yellow_Cart/._TorusCart_lime_yellow_front.jpg  \n",
            "  inflating: training 2/NotOk/Lime_yellow_Cart/TorusCart_lime_yellow_right.jpg  \n",
            "  inflating: __MACOSX/training 2/NotOk/Lime_yellow_Cart/._TorusCart_lime_yellow_right.jpg  \n",
            "  inflating: training 2/NotOk/Lime_yellow_Cart/TorusCart_lime_yellow_front6.jpg  \n",
            "  inflating: __MACOSX/training 2/NotOk/Lime_yellow_Cart/._TorusCart_lime_yellow_front6.jpg  \n",
            "  inflating: training 2/NotOk/Lime_yellow_Cart/TorusCart_lime_yellow_left.jpg  \n",
            "  inflating: __MACOSX/training 2/NotOk/Lime_yellow_Cart/._TorusCart_lime_yellow_left.jpg  \n",
            "  inflating: training 2/NotOk/Lime_yellow_Cart/TorusCart_lime_yellow_front7.jpg  \n",
            "  inflating: __MACOSX/training 2/NotOk/Lime_yellow_Cart/._TorusCart_lime_yellow_front7.jpg  \n",
            "  inflating: training 2/NotOk/Lime_yellow_Cart/TorusCart_lime_yellow_rear.jpg  \n",
            "  inflating: __MACOSX/training 2/NotOk/Lime_yellow_Cart/._TorusCart_lime_yellow_rear.jpg  \n",
            "  inflating: training 2/NotOk/Lime_yellow_Cart/TorusCart_lime_yellow_front5.jpg  \n",
            "  inflating: __MACOSX/training 2/NotOk/Lime_yellow_Cart/._TorusCart_lime_yellow_front5.jpg  \n",
            "  inflating: training 2/NotOk/Lime_yellow_Cart/TorusCart_lime_yellow_front4.jpg  \n",
            "  inflating: __MACOSX/training 2/NotOk/Lime_yellow_Cart/._TorusCart_lime_yellow_front4.jpg  \n",
            "  inflating: training 2/NotOk/Lime_yellow_Cart/TorusCart_lime_yellow_front1.jpg  \n",
            "  inflating: __MACOSX/training 2/NotOk/Lime_yellow_Cart/._TorusCart_lime_yellow_front1.jpg  \n",
            "  inflating: training 2/NotOk/Lime_yellow_Cart/TorusCart_lime_yellow_front3.jpg  \n",
            "  inflating: __MACOSX/training 2/NotOk/Lime_yellow_Cart/._TorusCart_lime_yellow_front3.jpg  \n",
            "  inflating: training 2/NotOk/Lime_yellow_Cart/TorusCart_lime_yellow_front2.jpg  \n",
            "  inflating: __MACOSX/training 2/NotOk/Lime_yellow_Cart/._TorusCart_lime_yellow_front2.jpg  \n",
            "   creating: training 2/NotOk/Red_lightblue_Cart/\n",
            "  inflating: training 2/NotOk/Red_lightblue_Cart/TorusCart_lightblue_red_left1.jpg  \n",
            "   creating: __MACOSX/training 2/NotOk/Red_lightblue_Cart/\n",
            "  inflating: __MACOSX/training 2/NotOk/Red_lightblue_Cart/._TorusCart_lightblue_red_left1.jpg  \n",
            "  inflating: training 2/NotOk/Red_lightblue_Cart/TorusCart_lightblue_red_left2.jpg  \n",
            "  inflating: __MACOSX/training 2/NotOk/Red_lightblue_Cart/._TorusCart_lightblue_red_left2.jpg  \n",
            "  inflating: training 2/NotOk/Red_lightblue_Cart/TorusCart_lightblue_red_left3.jpg  \n",
            "  inflating: __MACOSX/training 2/NotOk/Red_lightblue_Cart/._TorusCart_lightblue_red_left3.jpg  \n",
            "  inflating: training 2/NotOk/Red_lightblue_Cart/.DS_Store  \n",
            "  inflating: __MACOSX/training 2/NotOk/Red_lightblue_Cart/._.DS_Store  \n",
            "  inflating: training 2/NotOk/Red_lightblue_Cart/TorusCart_lightblue_red_left6.jpg  \n",
            "  inflating: __MACOSX/training 2/NotOk/Red_lightblue_Cart/._TorusCart_lightblue_red_left6.jpg  \n",
            "  inflating: training 2/NotOk/Red_lightblue_Cart/TorusCart_lightblue_red_left4.jpg  \n",
            "  inflating: __MACOSX/training 2/NotOk/Red_lightblue_Cart/._TorusCart_lightblue_red_left4.jpg  \n",
            "  inflating: training 2/NotOk/Red_lightblue_Cart/TorusCart_lightblue_red_left5.jpg  \n",
            "  inflating: __MACOSX/training 2/NotOk/Red_lightblue_Cart/._TorusCart_lightblue_red_left5.jpg  \n",
            "  inflating: training 2/NotOk/Red_lightblue_Cart/TorusCart_lightblue_red_rear2.jpg  \n",
            "  inflating: __MACOSX/training 2/NotOk/Red_lightblue_Cart/._TorusCart_lightblue_red_rear2.jpg  \n",
            "  inflating: training 2/NotOk/Red_lightblue_Cart/TorusCart_lightblue_red_front1.jpg  \n",
            "  inflating: __MACOSX/training 2/NotOk/Red_lightblue_Cart/._TorusCart_lightblue_red_front1.jpg  \n",
            "  inflating: training 2/NotOk/Red_lightblue_Cart/TorusCart_lightblue_red_left.jpg  \n",
            "  inflating: __MACOSX/training 2/NotOk/Red_lightblue_Cart/._TorusCart_lightblue_red_left.jpg  \n",
            "  inflating: training 2/NotOk/Red_lightblue_Cart/TorusCart_lightblue_red_rear3.jpg  \n",
            "  inflating: __MACOSX/training 2/NotOk/Red_lightblue_Cart/._TorusCart_lightblue_red_rear3.jpg  \n",
            "  inflating: training 2/NotOk/Red_lightblue_Cart/TorusCart_lightblue_red_rear1.jpg  \n",
            "  inflating: __MACOSX/training 2/NotOk/Red_lightblue_Cart/._TorusCart_lightblue_red_rear1.jpg  \n",
            "  inflating: training 2/NotOk/Red_lightblue_Cart/TorusCart_lightblue_red_rear.jpg  \n",
            "  inflating: __MACOSX/training 2/NotOk/Red_lightblue_Cart/._TorusCart_lightblue_red_rear.jpg  \n",
            "  inflating: training 2/NotOk/Red_lightblue_Cart/TorusCart_lightblue_red_front2.jpg  \n",
            "  inflating: __MACOSX/training 2/NotOk/Red_lightblue_Cart/._TorusCart_lightblue_red_front2.jpg  \n",
            "  inflating: training 2/NotOk/Red_lightblue_Cart/TorusCart_lightblue_red_front3.jpg  \n",
            "  inflating: __MACOSX/training 2/NotOk/Red_lightblue_Cart/._TorusCart_lightblue_red_front3.jpg  \n",
            "  inflating: training 2/NotOk/Red_lightblue_Cart/TorusCart_lightblue_red_rear4.jpg  \n",
            "  inflating: __MACOSX/training 2/NotOk/Red_lightblue_Cart/._TorusCart_lightblue_red_rear4.jpg  \n",
            "  inflating: training 2/NotOk/Red_lightblue_Cart/TorusCart_lightblue_red_front6.jpg  \n",
            "  inflating: __MACOSX/training 2/NotOk/Red_lightblue_Cart/._TorusCart_lightblue_red_front6.jpg  \n",
            "  inflating: training 2/NotOk/Red_lightblue_Cart/TorusCart_lightblue_red_rear5.jpg  \n",
            "  inflating: __MACOSX/training 2/NotOk/Red_lightblue_Cart/._TorusCart_lightblue_red_rear5.jpg  \n",
            "  inflating: training 2/NotOk/Red_lightblue_Cart/TorusCart_lightblue_red_front4.jpg  \n",
            "  inflating: __MACOSX/training 2/NotOk/Red_lightblue_Cart/._TorusCart_lightblue_red_front4.jpg  \n",
            "  inflating: training 2/NotOk/Red_lightblue_Cart/TorusCart_lightblue_red_front5.jpg  \n",
            "  inflating: __MACOSX/training 2/NotOk/Red_lightblue_Cart/._TorusCart_lightblue_red_front5.jpg  \n",
            "  inflating: training 2/NotOk/Red_lightblue_Cart/TorusCart_lightblue_red_rear6.jpg  \n",
            "  inflating: __MACOSX/training 2/NotOk/Red_lightblue_Cart/._TorusCart_lightblue_red_rear6.jpg  \n",
            "  inflating: training 2/NotOk/Red_lightblue_Cart/TorusCart_lightblue_red_right6.jpg  \n",
            "  inflating: __MACOSX/training 2/NotOk/Red_lightblue_Cart/._TorusCart_lightblue_red_right6.jpg  \n",
            "  inflating: training 2/NotOk/Red_lightblue_Cart/TorusCart_lightblue_red_right5.jpg  \n",
            "  inflating: __MACOSX/training 2/NotOk/Red_lightblue_Cart/._TorusCart_lightblue_red_right5.jpg  \n",
            "  inflating: training 2/NotOk/Red_lightblue_Cart/TorusCart_lightblue_red_right4.jpg  \n",
            "  inflating: __MACOSX/training 2/NotOk/Red_lightblue_Cart/._TorusCart_lightblue_red_right4.jpg  \n",
            "  inflating: training 2/NotOk/Red_lightblue_Cart/TorusCart_lightblue_red_right.jpg  \n",
            "  inflating: __MACOSX/training 2/NotOk/Red_lightblue_Cart/._TorusCart_lightblue_red_right.jpg  \n",
            "  inflating: training 2/NotOk/Red_lightblue_Cart/TorusCart_lightblue_red_front.jpg  \n",
            "  inflating: __MACOSX/training 2/NotOk/Red_lightblue_Cart/._TorusCart_lightblue_red_front.jpg  \n",
            "  inflating: training 2/NotOk/Red_lightblue_Cart/TorusCart_lightblue_red_right1.jpg  \n",
            "  inflating: __MACOSX/training 2/NotOk/Red_lightblue_Cart/._TorusCart_lightblue_red_right1.jpg  \n",
            "  inflating: training 2/NotOk/Red_lightblue_Cart/TorusCart_lightblue_red_right3.jpg  \n",
            "  inflating: __MACOSX/training 2/NotOk/Red_lightblue_Cart/._TorusCart_lightblue_red_right3.jpg  \n",
            "  inflating: training 2/NotOk/Red_lightblue_Cart/TorusCart_lightblue_red_right2.jpg  \n",
            "  inflating: __MACOSX/training 2/NotOk/Red_lightblue_Cart/._TorusCart_lightblue_red_right2.jpg  \n",
            "   creating: training 2/NotOk/Red_darkblue_Cart/\n",
            "  inflating: training 2/NotOk/Red_darkblue_Cart/TorusCart_red_darkblue_front7.jpg  \n",
            "   creating: __MACOSX/training 2/NotOk/Red_darkblue_Cart/\n",
            "  inflating: __MACOSX/training 2/NotOk/Red_darkblue_Cart/._TorusCart_red_darkblue_front7.jpg  \n",
            "  inflating: training 2/NotOk/Red_darkblue_Cart/TorusCart_red_darkblue_rear1.jpg  \n",
            "  inflating: __MACOSX/training 2/NotOk/Red_darkblue_Cart/._TorusCart_red_darkblue_rear1.jpg  \n",
            "  inflating: training 2/NotOk/Red_darkblue_Cart/TorusCart_red_darkblue_front6.jpg  \n",
            "  inflating: __MACOSX/training 2/NotOk/Red_darkblue_Cart/._TorusCart_red_darkblue_front6.jpg  \n",
            "  inflating: training 2/NotOk/Red_darkblue_Cart/TorusCart_red_darkblue_front4.jpg  \n",
            "  inflating: __MACOSX/training 2/NotOk/Red_darkblue_Cart/._TorusCart_red_darkblue_front4.jpg  \n",
            "  inflating: training 2/NotOk/Red_darkblue_Cart/TorusCart_red_darkblue_rear2.jpg  \n",
            "  inflating: __MACOSX/training 2/NotOk/Red_darkblue_Cart/._TorusCart_red_darkblue_rear2.jpg  \n",
            "  inflating: training 2/NotOk/Red_darkblue_Cart/TorusCart_red_darkblue_rear3.jpg  \n",
            "  inflating: __MACOSX/training 2/NotOk/Red_darkblue_Cart/._TorusCart_red_darkblue_rear3.jpg  \n",
            "  inflating: training 2/NotOk/Red_darkblue_Cart/TorusCart_red_darkblue_front5.jpg  \n",
            "  inflating: __MACOSX/training 2/NotOk/Red_darkblue_Cart/._TorusCart_red_darkblue_front5.jpg  \n",
            "  inflating: training 2/NotOk/Red_darkblue_Cart/TorusCart_red_darkblue_rear.jpg  \n",
            "  inflating: __MACOSX/training 2/NotOk/Red_darkblue_Cart/._TorusCart_red_darkblue_rear.jpg  \n",
            "  inflating: training 2/NotOk/Red_darkblue_Cart/TorusCart_red_darkblue_rear7.jpg  \n",
            "  inflating: __MACOSX/training 2/NotOk/Red_darkblue_Cart/._TorusCart_red_darkblue_rear7.jpg  \n",
            "  inflating: training 2/NotOk/Red_darkblue_Cart/TorusCart_red_darkblue_front1.jpg  \n",
            "  inflating: __MACOSX/training 2/NotOk/Red_darkblue_Cart/._TorusCart_red_darkblue_front1.jpg  \n",
            "  inflating: training 2/NotOk/Red_darkblue_Cart/TorusCart_red_darkblue_rear6.jpg  \n",
            "  inflating: __MACOSX/training 2/NotOk/Red_darkblue_Cart/._TorusCart_red_darkblue_rear6.jpg  \n",
            "  inflating: training 2/NotOk/Red_darkblue_Cart/TorusCart_red_darkblue_rear4.jpg  \n",
            "  inflating: __MACOSX/training 2/NotOk/Red_darkblue_Cart/._TorusCart_red_darkblue_rear4.jpg  \n",
            "  inflating: training 2/NotOk/Red_darkblue_Cart/TorusCart_red_darkblue_front2.jpg  \n",
            "  inflating: __MACOSX/training 2/NotOk/Red_darkblue_Cart/._TorusCart_red_darkblue_front2.jpg  \n",
            "  inflating: training 2/NotOk/Red_darkblue_Cart/TorusCart_red_darkblue_left.jpg  \n",
            "  inflating: __MACOSX/training 2/NotOk/Red_darkblue_Cart/._TorusCart_red_darkblue_left.jpg  \n",
            "  inflating: training 2/NotOk/Red_darkblue_Cart/TorusCart_red_darkblue_front3.jpg  \n",
            "  inflating: __MACOSX/training 2/NotOk/Red_darkblue_Cart/._TorusCart_red_darkblue_front3.jpg  \n",
            "  inflating: training 2/NotOk/Red_darkblue_Cart/TorusCart_red_darkblue_rear5.jpg  \n",
            "  inflating: __MACOSX/training 2/NotOk/Red_darkblue_Cart/._TorusCart_red_darkblue_rear5.jpg  \n",
            "  inflating: training 2/NotOk/Red_darkblue_Cart/TorusCart_red_darkblue_left2.jpg  \n",
            "  inflating: __MACOSX/training 2/NotOk/Red_darkblue_Cart/._TorusCart_red_darkblue_left2.jpg  \n",
            "  inflating: training 2/NotOk/Red_darkblue_Cart/TorusCart_red_darkblue_left3.jpg  \n",
            "  inflating: __MACOSX/training 2/NotOk/Red_darkblue_Cart/._TorusCart_red_darkblue_left3.jpg  \n",
            "  inflating: training 2/NotOk/Red_darkblue_Cart/TorusCart_red_darkblue_left1.jpg  \n",
            "  inflating: __MACOSX/training 2/NotOk/Red_darkblue_Cart/._TorusCart_red_darkblue_left1.jpg  \n",
            "  inflating: training 2/NotOk/Red_darkblue_Cart/TorusCart_red_darkblue_left4.jpg  \n",
            "  inflating: __MACOSX/training 2/NotOk/Red_darkblue_Cart/._TorusCart_red_darkblue_left4.jpg  \n",
            "  inflating: training 2/NotOk/Red_darkblue_Cart/TorusCart_red_darkblue_left5.jpg  \n",
            "  inflating: __MACOSX/training 2/NotOk/Red_darkblue_Cart/._TorusCart_red_darkblue_left5.jpg  \n",
            "  inflating: training 2/NotOk/Red_darkblue_Cart/TorusCart_red_darkblue_left7.jpg  \n",
            "  inflating: __MACOSX/training 2/NotOk/Red_darkblue_Cart/._TorusCart_red_darkblue_left7.jpg  \n",
            "  inflating: training 2/NotOk/Red_darkblue_Cart/TorusCart_red_darkblue_left6.jpg  \n",
            "  inflating: __MACOSX/training 2/NotOk/Red_darkblue_Cart/._TorusCart_red_darkblue_left6.jpg  \n",
            "  inflating: training 2/NotOk/Red_darkblue_Cart/TorusCart_red_darkblue_right1.jpg  \n",
            "  inflating: __MACOSX/training 2/NotOk/Red_darkblue_Cart/._TorusCart_red_darkblue_right1.jpg  \n",
            "  inflating: training 2/NotOk/Red_darkblue_Cart/TorusCart_red_darkblue_right3.jpg  \n",
            "  inflating: __MACOSX/training 2/NotOk/Red_darkblue_Cart/._TorusCart_red_darkblue_right3.jpg  \n",
            "  inflating: training 2/NotOk/Red_darkblue_Cart/TorusCart_red_darkblue_right2.jpg  \n",
            "  inflating: __MACOSX/training 2/NotOk/Red_darkblue_Cart/._TorusCart_red_darkblue_right2.jpg  \n",
            "  inflating: training 2/NotOk/Red_darkblue_Cart/TorusCart_red_darkblue_right6.jpg  \n",
            "  inflating: __MACOSX/training 2/NotOk/Red_darkblue_Cart/._TorusCart_red_darkblue_right6.jpg  \n",
            "  inflating: training 2/NotOk/Red_darkblue_Cart/TorusCart_red_darkblue_right7.jpg  \n",
            "  inflating: __MACOSX/training 2/NotOk/Red_darkblue_Cart/._TorusCart_red_darkblue_right7.jpg  \n",
            "  inflating: training 2/NotOk/Red_darkblue_Cart/TorusCart_red_darkblue_right5.jpg  \n",
            "  inflating: __MACOSX/training 2/NotOk/Red_darkblue_Cart/._TorusCart_red_darkblue_right5.jpg  \n",
            "  inflating: training 2/NotOk/Red_darkblue_Cart/TorusCart_red_darkblue_front.jpg  \n",
            "  inflating: __MACOSX/training 2/NotOk/Red_darkblue_Cart/._TorusCart_red_darkblue_front.jpg  \n",
            "  inflating: training 2/NotOk/Red_darkblue_Cart/TorusCart_red_darkblue_right.jpg  \n",
            "  inflating: __MACOSX/training 2/NotOk/Red_darkblue_Cart/._TorusCart_red_darkblue_right.jpg  \n",
            "  inflating: training 2/NotOk/Red_darkblue_Cart/TorusCart_red_darkblue_right4.jpg  \n",
            "  inflating: __MACOSX/training 2/NotOk/Red_darkblue_Cart/._TorusCart_red_darkblue_right4.jpg  \n",
            "  inflating: training 2/.DS_Store    \n",
            "  inflating: __MACOSX/training 2/._.DS_Store  \n",
            "   creating: training 2/Cart_obstacles/\n",
            "  inflating: training 2/Cart_obstacles/carts_obstacles2_2.jpg  \n",
            "   creating: __MACOSX/training 2/Cart_obstacles/\n",
            "  inflating: __MACOSX/training 2/Cart_obstacles/._carts_obstacles2_2.jpg  \n",
            "  inflating: training 2/Cart_obstacles/carts_obstacles4_4.jpg  \n",
            "  inflating: __MACOSX/training 2/Cart_obstacles/._carts_obstacles4_4.jpg  \n",
            "  inflating: training 2/Cart_obstacles/obstacles2_6.jpg  \n",
            "  inflating: __MACOSX/training 2/Cart_obstacles/._obstacles2_6.jpg  \n",
            "  inflating: training 2/Cart_obstacles/carts_obstacles4_5.jpg  \n",
            "  inflating: __MACOSX/training 2/Cart_obstacles/._carts_obstacles4_5.jpg  \n",
            "  inflating: training 2/Cart_obstacles/carts_obstacles2_3.jpg  \n",
            "  inflating: __MACOSX/training 2/Cart_obstacles/._carts_obstacles2_3.jpg  \n",
            "  inflating: training 2/Cart_obstacles/carts_obstacles2_1.jpg  \n",
            "  inflating: __MACOSX/training 2/Cart_obstacles/._carts_obstacles2_1.jpg  \n",
            "  inflating: training 2/Cart_obstacles/obstacles2_4.jpg  \n",
            "  inflating: __MACOSX/training 2/Cart_obstacles/._obstacles2_4.jpg  \n",
            "  inflating: training 2/Cart_obstacles/obstacles2_5.jpg  \n",
            "  inflating: __MACOSX/training 2/Cart_obstacles/._obstacles2_5.jpg  \n",
            "  inflating: training 2/Cart_obstacles/carts_obstacles4_6.jpg  \n",
            "  inflating: __MACOSX/training 2/Cart_obstacles/._carts_obstacles4_6.jpg  \n",
            "  inflating: training 2/Cart_obstacles/carts_obstacles2_4.jpg  \n",
            "  inflating: __MACOSX/training 2/Cart_obstacles/._carts_obstacles2_4.jpg  \n",
            "  inflating: training 2/Cart_obstacles/carts_obstacles4_2.jpg  \n",
            "  inflating: __MACOSX/training 2/Cart_obstacles/._carts_obstacles4_2.jpg  \n",
            "  inflating: training 2/Cart_obstacles/obstacles2_1.jpg  \n",
            "  inflating: __MACOSX/training 2/Cart_obstacles/._obstacles2_1.jpg  \n",
            "  inflating: training 2/Cart_obstacles/carts_obstacles4_3.jpg  \n",
            "  inflating: __MACOSX/training 2/Cart_obstacles/._carts_obstacles4_3.jpg  \n",
            "  inflating: training 2/Cart_obstacles/carts_obstacles2_5.jpg  \n",
            "  inflating: __MACOSX/training 2/Cart_obstacles/._carts_obstacles2_5.jpg  \n",
            "  inflating: training 2/Cart_obstacles/carts_obstacles4_1.jpg  \n",
            "  inflating: __MACOSX/training 2/Cart_obstacles/._carts_obstacles4_1.jpg  \n",
            "  inflating: training 2/Cart_obstacles/obstacles2_2.jpg  \n",
            "  inflating: __MACOSX/training 2/Cart_obstacles/._obstacles2_2.jpg  \n",
            "  inflating: training 2/Cart_obstacles/obstacles2_3.jpg  \n",
            "  inflating: __MACOSX/training 2/Cart_obstacles/._obstacles2_3.jpg  \n",
            "  inflating: training 2/Cart_obstacles/carts_obstacles2_6.jpg  \n",
            "  inflating: __MACOSX/training 2/Cart_obstacles/._carts_obstacles2_6.jpg  \n",
            "  inflating: training 2/Cart_obstacles/obstacles1_6.jpg  \n",
            "  inflating: __MACOSX/training 2/Cart_obstacles/._obstacles1_6.jpg  \n",
            "  inflating: training 2/Cart_obstacles/carts_obstacles3.jpg  \n",
            "  inflating: __MACOSX/training 2/Cart_obstacles/._carts_obstacles3.jpg  \n",
            "  inflating: training 2/Cart_obstacles/carts_obstacles3_1.jpg  \n",
            "  inflating: __MACOSX/training 2/Cart_obstacles/._carts_obstacles3_1.jpg  \n",
            "  inflating: training 2/Cart_obstacles/carts_obstacles1_3.jpg  \n",
            "  inflating: __MACOSX/training 2/Cart_obstacles/._carts_obstacles1_3.jpg  \n",
            "  inflating: training 2/Cart_obstacles/carts_obstacles1_2.jpg  \n",
            "  inflating: __MACOSX/training 2/Cart_obstacles/._carts_obstacles1_2.jpg  \n",
            "  inflating: training 2/Cart_obstacles/carts_obstacles2.jpg  \n",
            "  inflating: __MACOSX/training 2/Cart_obstacles/._carts_obstacles2.jpg  \n",
            "  inflating: training 2/Cart_obstacles/carts_obstacles5_6.jpg  \n",
            "  inflating: __MACOSX/training 2/Cart_obstacles/._carts_obstacles5_6.jpg  \n",
            "  inflating: training 2/Cart_obstacles/obstacles1_5.jpg  \n",
            "  inflating: __MACOSX/training 2/Cart_obstacles/._obstacles1_5.jpg  \n",
            "  inflating: training 2/Cart_obstacles/carts_obstacles5_4.jpg  \n",
            "  inflating: __MACOSX/training 2/Cart_obstacles/._carts_obstacles5_4.jpg  \n",
            "  inflating: training 2/Cart_obstacles/carts_obstacles3_2.jpg  \n",
            "  inflating: __MACOSX/training 2/Cart_obstacles/._carts_obstacles3_2.jpg  \n",
            "  inflating: training 2/Cart_obstacles/carts_obstacles1_1.jpg  \n",
            "  inflating: __MACOSX/training 2/Cart_obstacles/._carts_obstacles1_1.jpg  \n",
            "  inflating: training 2/Cart_obstacles/carts_obstacles3_3.jpg  \n",
            "  inflating: __MACOSX/training 2/Cart_obstacles/._carts_obstacles3_3.jpg  \n",
            "  inflating: training 2/Cart_obstacles/carts_obstacles1.jpg  \n",
            "  inflating: __MACOSX/training 2/Cart_obstacles/._carts_obstacles1.jpg  \n",
            "  inflating: training 2/Cart_obstacles/carts_obstacles5_5.jpg  \n",
            "  inflating: __MACOSX/training 2/Cart_obstacles/._carts_obstacles5_5.jpg  \n",
            "  inflating: training 2/Cart_obstacles/obstacles1_4.jpg  \n",
            "  inflating: __MACOSX/training 2/Cart_obstacles/._obstacles1_4.jpg  \n",
            "  inflating: training 2/Cart_obstacles/carts_obstacles5_1.jpg  \n",
            "  inflating: __MACOSX/training 2/Cart_obstacles/._carts_obstacles5_1.jpg  \n",
            "  inflating: training 2/Cart_obstacles/carts_obstacles5.jpg  \n",
            "  inflating: __MACOSX/training 2/Cart_obstacles/._carts_obstacles5.jpg  \n",
            "  inflating: training 2/Cart_obstacles/carts_obstacles1_5.jpg  \n",
            "  inflating: __MACOSX/training 2/Cart_obstacles/._carts_obstacles1_5.jpg  \n",
            "  inflating: training 2/Cart_obstacles/carts_obstacles1_4.jpg  \n",
            "  inflating: __MACOSX/training 2/Cart_obstacles/._carts_obstacles1_4.jpg  \n",
            "  inflating: training 2/Cart_obstacles/carts_obstacles3_6.jpg  \n",
            "  inflating: __MACOSX/training 2/Cart_obstacles/._carts_obstacles3_6.jpg  \n",
            "  inflating: training 2/Cart_obstacles/carts_obstacles4.jpg  \n",
            "  inflating: __MACOSX/training 2/Cart_obstacles/._carts_obstacles4.jpg  \n",
            "  inflating: training 2/Cart_obstacles/obstacles1_1.jpg  \n",
            "  inflating: __MACOSX/training 2/Cart_obstacles/._obstacles1_1.jpg  \n",
            "  inflating: training 2/Cart_obstacles/carts_obstacles5_2.jpg  \n",
            "  inflating: __MACOSX/training 2/Cart_obstacles/._carts_obstacles5_2.jpg  \n",
            "  inflating: training 2/Cart_obstacles/obstacles1_3.jpg  \n",
            "  inflating: __MACOSX/training 2/Cart_obstacles/._obstacles1_3.jpg  \n",
            "  inflating: training 2/Cart_obstacles/carts_obstacles3_4.jpg  \n",
            "  inflating: __MACOSX/training 2/Cart_obstacles/._carts_obstacles3_4.jpg  \n",
            "  inflating: training 2/Cart_obstacles/carts_obstacles1_6.jpg  \n",
            "  inflating: __MACOSX/training 2/Cart_obstacles/._carts_obstacles1_6.jpg  \n",
            "  inflating: training 2/Cart_obstacles/carts_obstacles3_5.jpg  \n",
            "  inflating: __MACOSX/training 2/Cart_obstacles/._carts_obstacles3_5.jpg  \n",
            "  inflating: training 2/Cart_obstacles/obstacles1_2.jpg  \n",
            "  inflating: __MACOSX/training 2/Cart_obstacles/._obstacles1_2.jpg  \n",
            "  inflating: training 2/Cart_obstacles/carts_obstacles5_3.jpg  \n",
            "  inflating: __MACOSX/training 2/Cart_obstacles/._carts_obstacles5_3.jpg  \n",
            "  inflating: training 2/Cart_obstacles/obstacles1.jpg  \n",
            "  inflating: __MACOSX/training 2/Cart_obstacles/._obstacles1.jpg  \n",
            "  inflating: training 2/Cart_obstacles/carts1.jpg  \n",
            "  inflating: __MACOSX/training 2/Cart_obstacles/._carts1.jpg  \n",
            "  inflating: training 2/Cart_obstacles/obstacles2.jpg  \n",
            "  inflating: __MACOSX/training 2/Cart_obstacles/._obstacles2.jpg  \n",
            "   creating: training 2/Ok/\n",
            "  inflating: training 2/Ok/nothing2_2.jpg  \n",
            "   creating: __MACOSX/training 2/Ok/\n",
            "  inflating: __MACOSX/training 2/Ok/._nothing2_2.jpg  \n",
            "  inflating: training 2/Ok/nothing6_6.jpg  \n",
            "  inflating: __MACOSX/training 2/Ok/._nothing6_6.jpg  \n",
            "  inflating: training 2/Ok/nothing4_4.jpg  \n",
            "  inflating: __MACOSX/training 2/Ok/._nothing4_4.jpg  \n",
            "  inflating: training 2/Ok/nothing4_5.jpg  \n",
            "  inflating: __MACOSX/training 2/Ok/._nothing4_5.jpg  \n",
            "  inflating: training 2/Ok/nothing2_3.jpg  \n",
            "  inflating: __MACOSX/training 2/Ok/._nothing2_3.jpg  \n",
            "  inflating: training 2/Ok/nothing2_1.jpg  \n",
            "  inflating: __MACOSX/training 2/Ok/._nothing2_1.jpg  \n",
            "  inflating: training 2/Ok/nothing6_5.jpg  \n",
            "  inflating: __MACOSX/training 2/Ok/._nothing6_5.jpg  \n",
            "  inflating: training 2/Ok/nothing4_6.jpg  \n",
            "  inflating: __MACOSX/training 2/Ok/._nothing4_6.jpg  \n",
            "  inflating: training 2/Ok/nothing6_4.jpg  \n",
            "  inflating: __MACOSX/training 2/Ok/._nothing6_4.jpg  \n",
            "  inflating: training 2/Ok/nothing2_4.jpg  \n",
            "  inflating: __MACOSX/training 2/Ok/._nothing2_4.jpg  \n",
            "  inflating: training 2/Ok/nothing4_2.jpg  \n",
            "  inflating: __MACOSX/training 2/Ok/._nothing4_2.jpg  \n",
            "  inflating: training 2/Ok/nothing4_3.jpg  \n",
            "  inflating: __MACOSX/training 2/Ok/._nothing4_3.jpg  \n",
            "  inflating: training 2/Ok/nothing6_1.jpg  \n",
            "  inflating: __MACOSX/training 2/Ok/._nothing6_1.jpg  \n",
            "  inflating: training 2/Ok/nothing2_5.jpg  \n",
            "  inflating: __MACOSX/training 2/Ok/._nothing2_5.jpg  \n",
            "  inflating: training 2/Ok/nothing6_3.jpg  \n",
            "  inflating: __MACOSX/training 2/Ok/._nothing6_3.jpg  \n",
            "  inflating: training 2/Ok/nothing4_1.jpg  \n",
            "  inflating: __MACOSX/training 2/Ok/._nothing4_1.jpg  \n",
            "  inflating: training 2/Ok/nothing6_2.jpg  \n",
            "  inflating: __MACOSX/training 2/Ok/._nothing6_2.jpg  \n",
            "  inflating: training 2/Ok/nothing2_6.jpg  \n",
            "  inflating: __MACOSX/training 2/Ok/._nothing2_6.jpg  \n",
            "  inflating: training 2/Ok/nothing7_5.jpg  \n",
            "  inflating: __MACOSX/training 2/Ok/._nothing7_5.jpg  \n",
            "  inflating: training 2/Ok/nothing3_1.jpg  \n",
            "  inflating: __MACOSX/training 2/Ok/._nothing3_1.jpg  \n",
            "  inflating: training 2/Ok/nothing7_4.jpg  \n",
            "  inflating: __MACOSX/training 2/Ok/._nothing7_4.jpg  \n",
            "  inflating: training 2/Ok/nothing5_6.jpg  \n",
            "  inflating: __MACOSX/training 2/Ok/._nothing5_6.jpg  \n",
            "  inflating: training 2/Ok/nothing5_4.jpg  \n",
            "  inflating: __MACOSX/training 2/Ok/._nothing5_4.jpg  \n",
            "  inflating: training 2/Ok/nothing7_6.jpg  \n",
            "  inflating: __MACOSX/training 2/Ok/._nothing7_6.jpg  \n",
            "  inflating: training 2/Ok/nothing3_2.jpg  \n",
            "  inflating: __MACOSX/training 2/Ok/._nothing3_2.jpg  \n",
            "  inflating: training 2/Ok/nothing3_3.jpg  \n",
            "  inflating: __MACOSX/training 2/Ok/._nothing3_3.jpg  \n",
            "  inflating: training 2/Ok/nothing5_5.jpg  \n",
            "  inflating: __MACOSX/training 2/Ok/._nothing5_5.jpg  \n",
            "  inflating: training 2/Ok/nothing5_1.jpg  \n",
            "  inflating: __MACOSX/training 2/Ok/._nothing5_1.jpg  \n",
            "  inflating: training 2/Ok/nothing7_3.jpg  \n",
            "  inflating: __MACOSX/training 2/Ok/._nothing7_3.jpg  \n",
            "  inflating: training 2/Ok/nothing3_6.jpg  \n",
            "  inflating: __MACOSX/training 2/Ok/._nothing3_6.jpg  \n",
            "  inflating: training 2/Ok/nothing7_2.jpg  \n",
            "  inflating: __MACOSX/training 2/Ok/._nothing7_2.jpg  \n",
            "  inflating: training 2/Ok/nothing5_2.jpg  \n",
            "  inflating: __MACOSX/training 2/Ok/._nothing5_2.jpg  \n",
            "  inflating: training 2/Ok/nothing8.jpg  \n",
            "  inflating: __MACOSX/training 2/Ok/._nothing8.jpg  \n",
            "  inflating: training 2/Ok/nothing3_4.jpg  \n",
            "  inflating: __MACOSX/training 2/Ok/._nothing3_4.jpg  \n",
            "  inflating: training 2/Ok/nothing3_5.jpg  \n",
            "  inflating: __MACOSX/training 2/Ok/._nothing3_5.jpg  \n",
            "  inflating: training 2/Ok/nothing7_1.jpg  \n",
            "  inflating: __MACOSX/training 2/Ok/._nothing7_1.jpg  \n",
            "  inflating: training 2/Ok/nothing5_3.jpg  \n",
            "  inflating: __MACOSX/training 2/Ok/._nothing5_3.jpg  \n",
            "  inflating: training 2/Ok/nothing4.jpg  \n",
            "  inflating: __MACOSX/training 2/Ok/._nothing4.jpg  \n",
            "  inflating: training 2/Ok/nothing5.jpg  \n",
            "  inflating: __MACOSX/training 2/Ok/._nothing5.jpg  \n",
            "  inflating: training 2/Ok/nothing7.jpg  \n",
            "  inflating: __MACOSX/training 2/Ok/._nothing7.jpg  \n",
            "  inflating: training 2/Ok/nothing6.jpg  \n",
            "  inflating: __MACOSX/training 2/Ok/._nothing6.jpg  \n",
            "  inflating: training 2/Ok/nothing2.jpg  \n",
            "  inflating: __MACOSX/training 2/Ok/._nothing2.jpg  \n",
            "  inflating: training 2/Ok/nothing3.jpg  \n",
            "  inflating: __MACOSX/training 2/Ok/._nothing3.jpg  \n",
            "  inflating: training 2/Ok/nothing1.jpg  \n",
            "  inflating: __MACOSX/training 2/Ok/._nothing1.jpg  \n",
            "  inflating: training 2/Ok/nothing_5.jpg  \n",
            "  inflating: __MACOSX/training 2/Ok/._nothing_5.jpg  \n",
            "  inflating: training 2/Ok/nothing_4.jpg  \n",
            "  inflating: __MACOSX/training 2/Ok/._nothing_4.jpg  \n",
            "  inflating: training 2/Ok/nothing8_1.jpg  \n",
            "  inflating: __MACOSX/training 2/Ok/._nothing8_1.jpg  \n",
            "  inflating: training 2/Ok/nothing8_3.jpg  \n",
            "  inflating: __MACOSX/training 2/Ok/._nothing8_3.jpg  \n",
            "  inflating: training 2/Ok/nothing_6.jpg  \n",
            "  inflating: __MACOSX/training 2/Ok/._nothing_6.jpg  \n",
            "  inflating: training 2/Ok/nothing_7.jpg  \n",
            "  inflating: __MACOSX/training 2/Ok/._nothing_7.jpg  \n",
            "  inflating: training 2/Ok/nothing8_2.jpg  \n",
            "  inflating: __MACOSX/training 2/Ok/._nothing8_2.jpg  \n",
            "  inflating: training 2/Ok/nothing8_6.jpg  \n",
            "  inflating: __MACOSX/training 2/Ok/._nothing8_6.jpg  \n",
            "  inflating: training 2/Ok/nothing_3.jpg  \n",
            "  inflating: __MACOSX/training 2/Ok/._nothing_3.jpg  \n",
            "  inflating: training 2/Ok/nothing_2.jpg  \n",
            "  inflating: __MACOSX/training 2/Ok/._nothing_2.jpg  \n",
            "  inflating: training 2/Ok/nothing8_5.jpg  \n",
            "  inflating: __MACOSX/training 2/Ok/._nothing8_5.jpg  \n",
            "  inflating: training 2/Ok/nothing8_4.jpg  \n",
            "  inflating: __MACOSX/training 2/Ok/._nothing8_4.jpg  \n",
            "  inflating: training 2/test.mp4     \n",
            "  inflating: __MACOSX/training 2/._test.mp4  \n",
            "  inflating: training 2/carts1.jpg   \n",
            "  inflating: __MACOSX/training 2/._carts1.jpg  \n",
            "  inflating: __MACOSX/._training 2   \n"
          ],
          "name": "stdout"
        }
      ]
    },
    {
      "cell_type": "code",
      "metadata": {
        "id": "onL9GY_OAz5s"
      },
      "source": [
        "!mkdir dataset"
      ],
      "execution_count": null,
      "outputs": []
    },
    {
      "cell_type": "code",
      "metadata": {
        "id": "ra5rUyrnA-Tl"
      },
      "source": [
        "!cp -r \"/content/training 2/Ok\" dataset"
      ],
      "execution_count": null,
      "outputs": []
    },
    {
      "cell_type": "code",
      "metadata": {
        "id": "q5YVlPJhBJpS"
      },
      "source": [
        "!mkdir dataset/NotOk"
      ],
      "execution_count": null,
      "outputs": []
    },
    {
      "cell_type": "code",
      "metadata": {
        "id": "D5-8FkBFBoiS"
      },
      "source": [
        "import glob\n",
        "import shutil\n",
        "import os\n",
        "\n",
        "BASE_DIR = os.getcwd()\n",
        "src_dir = os.path.join(BASE_DIR, \"training 2\",\"NotOk\")\n",
        "dst_dir =  os.path.join(BASE_DIR, \"dataset\", \"NotOk\")\n"
      ],
      "execution_count": null,
      "outputs": []
    },
    {
      "cell_type": "code",
      "metadata": {
        "id": "7cWoAL4dCRWI"
      },
      "source": [
        "not_ok_folder = os.listdir(src_dir)"
      ],
      "execution_count": null,
      "outputs": []
    },
    {
      "cell_type": "code",
      "metadata": {
        "id": "TO91SiO6Brzz"
      },
      "source": [
        "for item in not_ok_folder:\n",
        "  for jpgfile in glob.iglob(os.path.join(src_dir, item,\"*.jpg\")):\n",
        "      shutil.copy(jpgfile, dst_dir)"
      ],
      "execution_count": null,
      "outputs": []
    },
    {
      "cell_type": "code",
      "metadata": {
        "id": "gd71Tnp_CzvZ",
        "colab": {
          "base_uri": "https://localhost:8080/"
        },
        "outputId": "40385e61-fc15-48f7-d264-4830375011f0"
      },
      "source": [
        "!pip install split-folders"
      ],
      "execution_count": null,
      "outputs": [
        {
          "output_type": "stream",
          "text": [
            "Collecting split-folders\n",
            "  Downloading https://files.pythonhosted.org/packages/b8/5f/3c2b2f7ea5e047c8cdc3bb00ae582c5438fcdbbedcc23b3cc1c2c7aae642/split_folders-0.4.3-py3-none-any.whl\n",
            "Installing collected packages: split-folders\n",
            "Successfully installed split-folders-0.4.3\n"
          ],
          "name": "stdout"
        }
      ]
    },
    {
      "cell_type": "code",
      "metadata": {
        "id": "_G7CxwQJD4cq"
      },
      "source": [
        "import splitfolders  # or import split_folders\n",
        "import shutil"
      ],
      "execution_count": null,
      "outputs": []
    },
    {
      "cell_type": "code",
      "metadata": {
        "id": "axkIUXbkElpW"
      },
      "source": [
        "DATA_DIR = os.path.join(BASE_DIR, \"dataset\")"
      ],
      "execution_count": null,
      "outputs": []
    },
    {
      "cell_type": "code",
      "metadata": {
        "id": "bqLadjtIFG3n"
      },
      "source": [
        "!mkdir \"all_data\""
      ],
      "execution_count": null,
      "outputs": []
    },
    {
      "cell_type": "code",
      "metadata": {
        "id": "mq1bvQtLE6cV"
      },
      "source": [
        "dataset_dir = os.path.join(BASE_DIR, 'all_data')"
      ],
      "execution_count": null,
      "outputs": []
    },
    {
      "cell_type": "code",
      "metadata": {
        "id": "QOhY7Tq8EE5Y",
        "colab": {
          "base_uri": "https://localhost:8080/"
        },
        "outputId": "51b5b3be-e2de-474c-cb6e-190998501e12"
      },
      "source": [
        "splitfolders.ratio(DATA_DIR, output= dataset_dir, seed=1337, ratio=(.7, .1, .2)) # default values\n"
      ],
      "execution_count": null,
      "outputs": [
        {
          "output_type": "stream",
          "text": [
            "Copying files: 226 files [00:00, 5248.83 files/s]\n"
          ],
          "name": "stderr"
        }
      ]
    },
    {
      "cell_type": "code",
      "metadata": {
        "id": "NC9Y11Y9E1lS"
      },
      "source": [
        "train_directory = os.path.join(dataset_dir, 'train')\n",
        "valid_directory = os.path.join(dataset_dir, 'val')\n",
        "test_directory = os.path.join(dataset_dir, 'test')"
      ],
      "execution_count": null,
      "outputs": []
    },
    {
      "cell_type": "code",
      "metadata": {
        "id": "AqKjHI3aIISo"
      },
      "source": [
        "\n",
        "\n",
        "%matplotlib inline\n",
        "%config InlineBackend.figure_format = 'retina'\n",
        "\n",
        "import matplotlib.pyplot as plt\n",
        "\n",
        "import torch\n",
        "import numpy as np\n",
        "import torchvision\n",
        "from torch import nn\n",
        "from torch import optim\n",
        "import torch.nn.functional as F\n",
        "from torchvision import datasets, transforms, models\n",
        "from torch.optim import lr_scheduler\n",
        "\n"
      ],
      "execution_count": null,
      "outputs": []
    },
    {
      "cell_type": "code",
      "metadata": {
        "id": "N2KwtsYBKb12",
        "colab": {
          "base_uri": "https://localhost:8080/"
        },
        "outputId": "72687f8c-348e-4e21-da1d-80d528db0d3e"
      },
      "source": [
        "#print the pytorch version\n",
        "device = torch.cuda.is_available()\n",
        "device, torch.__version__\n",
        "\n",
        "# check if CUDA is available\n",
        "train_on_gpu = torch.cuda.is_available()\n",
        "\n",
        "if not train_on_gpu:\n",
        "    print('CUDA is not available.  Training on CPU ...')\n",
        "else:\n",
        "    print('CUDA is available!  Training on GPU ...')\n",
        "    \n",
        "print(train_on_gpu)"
      ],
      "execution_count": null,
      "outputs": [
        {
          "output_type": "stream",
          "text": [
            "CUDA is available!  Training on GPU ...\n",
            "True\n"
          ],
          "name": "stdout"
        }
      ]
    },
    {
      "cell_type": "code",
      "metadata": {
        "id": "DmG8nmD_KdT1"
      },
      "source": [
        "train_transforms = transforms.Compose([transforms.RandomRotation(30),\n",
        "                                       transforms.RandomResizedCrop(224),\n",
        "                                       transforms.RandomHorizontalFlip(),\n",
        "                                       transforms.ToTensor(),\n",
        "                                       transforms.Normalize([0.485, 0.456, 0.406],\n",
        "                                                            [0.229, 0.224, 0.225])])"
      ],
      "execution_count": null,
      "outputs": []
    },
    {
      "cell_type": "code",
      "metadata": {
        "id": "eJ9rYw_zGhsA"
      },
      "source": [
        "test_transforms = transforms.Compose([transforms.Resize(255),\n",
        "                                      transforms.CenterCrop(224),\n",
        "                                      transforms.ToTensor(),\n",
        "                                      transforms.Normalize([0.485, 0.456, 0.406],\n",
        "                                                           [0.229, 0.224, 0.225])])\n",
        "\n",
        "# Pass transforms in here, then run the next cell to see how the transforms look\n",
        "train_data = datasets.ImageFolder(train_directory, transform=train_transforms)\n",
        "valid_data = datasets.ImageFolder(valid_directory, transform=test_transforms)\n",
        "test_data = datasets.ImageFolder(test_directory, transform=test_transforms)"
      ],
      "execution_count": null,
      "outputs": []
    },
    {
      "cell_type": "code",
      "metadata": {
        "id": "YQLtINz4J8zt"
      },
      "source": [
        "train_loader = torch.utils.data.DataLoader(train_data, batch_size=16, shuffle=True)\n",
        "valid_loader = torch.utils.data.DataLoader(valid_data, batch_size=16, shuffle=True)\n",
        "test_loader = torch.utils.data.DataLoader(test_data, batch_size=16, shuffle=True)"
      ],
      "execution_count": null,
      "outputs": []
    },
    {
      "cell_type": "code",
      "metadata": {
        "id": "dLIyUXyjKAov",
        "colab": {
          "base_uri": "https://localhost:8080/"
        },
        "outputId": "5a25ace9-923f-4793-f075-b3792e7490e5"
      },
      "source": [
        "len(train_data), len(valid_data),len(train_loader),len(valid_loader), len(test_data), len(test_loader)"
      ],
      "execution_count": null,
      "outputs": [
        {
          "output_type": "execute_result",
          "data": {
            "text/plain": [
              "(157, 22, 10, 2, 47, 3)"
            ]
          },
          "metadata": {
            "tags": []
          },
          "execution_count": 25
        }
      ]
    },
    {
      "cell_type": "code",
      "metadata": {
        "id": "R7rSDEMRMnR_",
        "colab": {
          "base_uri": "https://localhost:8080/",
          "height": 104,
          "referenced_widgets": [
            "fd4173a1b7fe415da38f738ecb483a30",
            "b6d11b1346344bf18bda1ed3cdcc99c9",
            "e5148501ac394eeeaa6bd4a77ebd8e90",
            "eeb950617b6b4ac6ab3b9fb91bd79e8d",
            "2eee7a46e9cf4f63aaa55e2bb0322ff6",
            "39fe8bb69d934195a5953c479701acd7",
            "ecbdf936d3644354aea7a306feaf74ee",
            "23d8bdc3c4c143f091797522964a99b3"
          ]
        },
        "outputId": "8295fa97-308c-4536-d81d-027da169b27d"
      },
      "source": [
        "model = models.resnet34(pretrained=True)\n",
        "# Freeze the weights\n",
        "for param in model.parameters():\n",
        "    param.requires_grad = False"
      ],
      "execution_count": null,
      "outputs": [
        {
          "output_type": "stream",
          "text": [
            "Downloading: \"https://download.pytorch.org/models/resnet34-333f7ec4.pth\" to /root/.cache/torch/hub/checkpoints/resnet34-333f7ec4.pth\n"
          ],
          "name": "stderr"
        },
        {
          "output_type": "display_data",
          "data": {
            "application/vnd.jupyter.widget-view+json": {
              "model_id": "fd4173a1b7fe415da38f738ecb483a30",
              "version_minor": 0,
              "version_major": 2
            },
            "text/plain": [
              "HBox(children=(FloatProgress(value=0.0, max=87306240.0), HTML(value='')))"
            ]
          },
          "metadata": {
            "tags": []
          }
        },
        {
          "output_type": "stream",
          "text": [
            "\n"
          ],
          "name": "stdout"
        }
      ]
    },
    {
      "cell_type": "code",
      "metadata": {
        "id": "-GbrZ3_-T2Gb",
        "colab": {
          "base_uri": "https://localhost:8080/"
        },
        "outputId": "8497e5eb-d423-4781-a611-f2393d2f6b97"
      },
      "source": [
        "model"
      ],
      "execution_count": null,
      "outputs": [
        {
          "output_type": "execute_result",
          "data": {
            "text/plain": [
              "ResNet(\n",
              "  (conv1): Conv2d(3, 64, kernel_size=(7, 7), stride=(2, 2), padding=(3, 3), bias=False)\n",
              "  (bn1): BatchNorm2d(64, eps=1e-05, momentum=0.1, affine=True, track_running_stats=True)\n",
              "  (relu): ReLU(inplace=True)\n",
              "  (maxpool): MaxPool2d(kernel_size=3, stride=2, padding=1, dilation=1, ceil_mode=False)\n",
              "  (layer1): Sequential(\n",
              "    (0): BasicBlock(\n",
              "      (conv1): Conv2d(64, 64, kernel_size=(3, 3), stride=(1, 1), padding=(1, 1), bias=False)\n",
              "      (bn1): BatchNorm2d(64, eps=1e-05, momentum=0.1, affine=True, track_running_stats=True)\n",
              "      (relu): ReLU(inplace=True)\n",
              "      (conv2): Conv2d(64, 64, kernel_size=(3, 3), stride=(1, 1), padding=(1, 1), bias=False)\n",
              "      (bn2): BatchNorm2d(64, eps=1e-05, momentum=0.1, affine=True, track_running_stats=True)\n",
              "    )\n",
              "    (1): BasicBlock(\n",
              "      (conv1): Conv2d(64, 64, kernel_size=(3, 3), stride=(1, 1), padding=(1, 1), bias=False)\n",
              "      (bn1): BatchNorm2d(64, eps=1e-05, momentum=0.1, affine=True, track_running_stats=True)\n",
              "      (relu): ReLU(inplace=True)\n",
              "      (conv2): Conv2d(64, 64, kernel_size=(3, 3), stride=(1, 1), padding=(1, 1), bias=False)\n",
              "      (bn2): BatchNorm2d(64, eps=1e-05, momentum=0.1, affine=True, track_running_stats=True)\n",
              "    )\n",
              "    (2): BasicBlock(\n",
              "      (conv1): Conv2d(64, 64, kernel_size=(3, 3), stride=(1, 1), padding=(1, 1), bias=False)\n",
              "      (bn1): BatchNorm2d(64, eps=1e-05, momentum=0.1, affine=True, track_running_stats=True)\n",
              "      (relu): ReLU(inplace=True)\n",
              "      (conv2): Conv2d(64, 64, kernel_size=(3, 3), stride=(1, 1), padding=(1, 1), bias=False)\n",
              "      (bn2): BatchNorm2d(64, eps=1e-05, momentum=0.1, affine=True, track_running_stats=True)\n",
              "    )\n",
              "  )\n",
              "  (layer2): Sequential(\n",
              "    (0): BasicBlock(\n",
              "      (conv1): Conv2d(64, 128, kernel_size=(3, 3), stride=(2, 2), padding=(1, 1), bias=False)\n",
              "      (bn1): BatchNorm2d(128, eps=1e-05, momentum=0.1, affine=True, track_running_stats=True)\n",
              "      (relu): ReLU(inplace=True)\n",
              "      (conv2): Conv2d(128, 128, kernel_size=(3, 3), stride=(1, 1), padding=(1, 1), bias=False)\n",
              "      (bn2): BatchNorm2d(128, eps=1e-05, momentum=0.1, affine=True, track_running_stats=True)\n",
              "      (downsample): Sequential(\n",
              "        (0): Conv2d(64, 128, kernel_size=(1, 1), stride=(2, 2), bias=False)\n",
              "        (1): BatchNorm2d(128, eps=1e-05, momentum=0.1, affine=True, track_running_stats=True)\n",
              "      )\n",
              "    )\n",
              "    (1): BasicBlock(\n",
              "      (conv1): Conv2d(128, 128, kernel_size=(3, 3), stride=(1, 1), padding=(1, 1), bias=False)\n",
              "      (bn1): BatchNorm2d(128, eps=1e-05, momentum=0.1, affine=True, track_running_stats=True)\n",
              "      (relu): ReLU(inplace=True)\n",
              "      (conv2): Conv2d(128, 128, kernel_size=(3, 3), stride=(1, 1), padding=(1, 1), bias=False)\n",
              "      (bn2): BatchNorm2d(128, eps=1e-05, momentum=0.1, affine=True, track_running_stats=True)\n",
              "    )\n",
              "    (2): BasicBlock(\n",
              "      (conv1): Conv2d(128, 128, kernel_size=(3, 3), stride=(1, 1), padding=(1, 1), bias=False)\n",
              "      (bn1): BatchNorm2d(128, eps=1e-05, momentum=0.1, affine=True, track_running_stats=True)\n",
              "      (relu): ReLU(inplace=True)\n",
              "      (conv2): Conv2d(128, 128, kernel_size=(3, 3), stride=(1, 1), padding=(1, 1), bias=False)\n",
              "      (bn2): BatchNorm2d(128, eps=1e-05, momentum=0.1, affine=True, track_running_stats=True)\n",
              "    )\n",
              "    (3): BasicBlock(\n",
              "      (conv1): Conv2d(128, 128, kernel_size=(3, 3), stride=(1, 1), padding=(1, 1), bias=False)\n",
              "      (bn1): BatchNorm2d(128, eps=1e-05, momentum=0.1, affine=True, track_running_stats=True)\n",
              "      (relu): ReLU(inplace=True)\n",
              "      (conv2): Conv2d(128, 128, kernel_size=(3, 3), stride=(1, 1), padding=(1, 1), bias=False)\n",
              "      (bn2): BatchNorm2d(128, eps=1e-05, momentum=0.1, affine=True, track_running_stats=True)\n",
              "    )\n",
              "  )\n",
              "  (layer3): Sequential(\n",
              "    (0): BasicBlock(\n",
              "      (conv1): Conv2d(128, 256, kernel_size=(3, 3), stride=(2, 2), padding=(1, 1), bias=False)\n",
              "      (bn1): BatchNorm2d(256, eps=1e-05, momentum=0.1, affine=True, track_running_stats=True)\n",
              "      (relu): ReLU(inplace=True)\n",
              "      (conv2): Conv2d(256, 256, kernel_size=(3, 3), stride=(1, 1), padding=(1, 1), bias=False)\n",
              "      (bn2): BatchNorm2d(256, eps=1e-05, momentum=0.1, affine=True, track_running_stats=True)\n",
              "      (downsample): Sequential(\n",
              "        (0): Conv2d(128, 256, kernel_size=(1, 1), stride=(2, 2), bias=False)\n",
              "        (1): BatchNorm2d(256, eps=1e-05, momentum=0.1, affine=True, track_running_stats=True)\n",
              "      )\n",
              "    )\n",
              "    (1): BasicBlock(\n",
              "      (conv1): Conv2d(256, 256, kernel_size=(3, 3), stride=(1, 1), padding=(1, 1), bias=False)\n",
              "      (bn1): BatchNorm2d(256, eps=1e-05, momentum=0.1, affine=True, track_running_stats=True)\n",
              "      (relu): ReLU(inplace=True)\n",
              "      (conv2): Conv2d(256, 256, kernel_size=(3, 3), stride=(1, 1), padding=(1, 1), bias=False)\n",
              "      (bn2): BatchNorm2d(256, eps=1e-05, momentum=0.1, affine=True, track_running_stats=True)\n",
              "    )\n",
              "    (2): BasicBlock(\n",
              "      (conv1): Conv2d(256, 256, kernel_size=(3, 3), stride=(1, 1), padding=(1, 1), bias=False)\n",
              "      (bn1): BatchNorm2d(256, eps=1e-05, momentum=0.1, affine=True, track_running_stats=True)\n",
              "      (relu): ReLU(inplace=True)\n",
              "      (conv2): Conv2d(256, 256, kernel_size=(3, 3), stride=(1, 1), padding=(1, 1), bias=False)\n",
              "      (bn2): BatchNorm2d(256, eps=1e-05, momentum=0.1, affine=True, track_running_stats=True)\n",
              "    )\n",
              "    (3): BasicBlock(\n",
              "      (conv1): Conv2d(256, 256, kernel_size=(3, 3), stride=(1, 1), padding=(1, 1), bias=False)\n",
              "      (bn1): BatchNorm2d(256, eps=1e-05, momentum=0.1, affine=True, track_running_stats=True)\n",
              "      (relu): ReLU(inplace=True)\n",
              "      (conv2): Conv2d(256, 256, kernel_size=(3, 3), stride=(1, 1), padding=(1, 1), bias=False)\n",
              "      (bn2): BatchNorm2d(256, eps=1e-05, momentum=0.1, affine=True, track_running_stats=True)\n",
              "    )\n",
              "    (4): BasicBlock(\n",
              "      (conv1): Conv2d(256, 256, kernel_size=(3, 3), stride=(1, 1), padding=(1, 1), bias=False)\n",
              "      (bn1): BatchNorm2d(256, eps=1e-05, momentum=0.1, affine=True, track_running_stats=True)\n",
              "      (relu): ReLU(inplace=True)\n",
              "      (conv2): Conv2d(256, 256, kernel_size=(3, 3), stride=(1, 1), padding=(1, 1), bias=False)\n",
              "      (bn2): BatchNorm2d(256, eps=1e-05, momentum=0.1, affine=True, track_running_stats=True)\n",
              "    )\n",
              "    (5): BasicBlock(\n",
              "      (conv1): Conv2d(256, 256, kernel_size=(3, 3), stride=(1, 1), padding=(1, 1), bias=False)\n",
              "      (bn1): BatchNorm2d(256, eps=1e-05, momentum=0.1, affine=True, track_running_stats=True)\n",
              "      (relu): ReLU(inplace=True)\n",
              "      (conv2): Conv2d(256, 256, kernel_size=(3, 3), stride=(1, 1), padding=(1, 1), bias=False)\n",
              "      (bn2): BatchNorm2d(256, eps=1e-05, momentum=0.1, affine=True, track_running_stats=True)\n",
              "    )\n",
              "  )\n",
              "  (layer4): Sequential(\n",
              "    (0): BasicBlock(\n",
              "      (conv1): Conv2d(256, 512, kernel_size=(3, 3), stride=(2, 2), padding=(1, 1), bias=False)\n",
              "      (bn1): BatchNorm2d(512, eps=1e-05, momentum=0.1, affine=True, track_running_stats=True)\n",
              "      (relu): ReLU(inplace=True)\n",
              "      (conv2): Conv2d(512, 512, kernel_size=(3, 3), stride=(1, 1), padding=(1, 1), bias=False)\n",
              "      (bn2): BatchNorm2d(512, eps=1e-05, momentum=0.1, affine=True, track_running_stats=True)\n",
              "      (downsample): Sequential(\n",
              "        (0): Conv2d(256, 512, kernel_size=(1, 1), stride=(2, 2), bias=False)\n",
              "        (1): BatchNorm2d(512, eps=1e-05, momentum=0.1, affine=True, track_running_stats=True)\n",
              "      )\n",
              "    )\n",
              "    (1): BasicBlock(\n",
              "      (conv1): Conv2d(512, 512, kernel_size=(3, 3), stride=(1, 1), padding=(1, 1), bias=False)\n",
              "      (bn1): BatchNorm2d(512, eps=1e-05, momentum=0.1, affine=True, track_running_stats=True)\n",
              "      (relu): ReLU(inplace=True)\n",
              "      (conv2): Conv2d(512, 512, kernel_size=(3, 3), stride=(1, 1), padding=(1, 1), bias=False)\n",
              "      (bn2): BatchNorm2d(512, eps=1e-05, momentum=0.1, affine=True, track_running_stats=True)\n",
              "    )\n",
              "    (2): BasicBlock(\n",
              "      (conv1): Conv2d(512, 512, kernel_size=(3, 3), stride=(1, 1), padding=(1, 1), bias=False)\n",
              "      (bn1): BatchNorm2d(512, eps=1e-05, momentum=0.1, affine=True, track_running_stats=True)\n",
              "      (relu): ReLU(inplace=True)\n",
              "      (conv2): Conv2d(512, 512, kernel_size=(3, 3), stride=(1, 1), padding=(1, 1), bias=False)\n",
              "      (bn2): BatchNorm2d(512, eps=1e-05, momentum=0.1, affine=True, track_running_stats=True)\n",
              "    )\n",
              "  )\n",
              "  (avgpool): AdaptiveAvgPool2d(output_size=(1, 1))\n",
              "  (fc): Linear(in_features=512, out_features=1000, bias=True)\n",
              ")"
            ]
          },
          "metadata": {
            "tags": []
          },
          "execution_count": 27
        }
      ]
    },
    {
      "cell_type": "code",
      "metadata": {
        "id": "jYKP4VBZM0fP"
      },
      "source": [
        "num_inp = model.fc.in_features\n",
        "model.fc = nn.Linear(num_inp, 2)\n",
        "if train_on_gpu:\n",
        "    model.cuda()"
      ],
      "execution_count": null,
      "outputs": []
    },
    {
      "cell_type": "code",
      "metadata": {
        "id": "zf2bIlRWM3er"
      },
      "source": [
        "criterion = torch.nn.CrossEntropyLoss()\n",
        "#only train the classifier part, the features part are frozen\n",
        "optimizer = optim.SGD(model.fc.parameters(), lr=0.015, momentum=0.9)"
      ],
      "execution_count": null,
      "outputs": []
    },
    {
      "cell_type": "code",
      "metadata": {
        "id": "p790t8jZM57b"
      },
      "source": [
        "scheduler = lr_scheduler.StepLR(optimizer, step_size=6, gamma=0.1)"
      ],
      "execution_count": null,
      "outputs": []
    },
    {
      "cell_type": "code",
      "metadata": {
        "id": "CwLZJqqrM7h0"
      },
      "source": [
        "for param in model.parameters():\n",
        "    param.requires_grad = True\n",
        "    \n",
        "# train the WHOLE part instead of just the classifier!, THIS IS THE SECOND ITERATION OF THE TRAINING AND REDUCE THE LEARNING RATE TOO!\n",
        "optimizer = optim.SGD(model.parameters(), lr=0.0002, momentum=0.9)"
      ],
      "execution_count": null,
      "outputs": []
    },
    {
      "cell_type": "code",
      "metadata": {
        "id": "xNn285QsM9tY",
        "colab": {
          "base_uri": "https://localhost:8080/"
        },
        "outputId": "c8356919-9ee6-4221-b949-38d45bf6b964"
      },
      "source": [
        "if train_on_gpu:\n",
        "    model.cuda()\n",
        "n_epochs = 16 # you may increase this number to train a final model\n",
        "valid_loss_min = np.Inf # track change in validation loss\n",
        "\n",
        "#Keep track for the plt chart\n",
        "train_losses, test_losses = [], []\n",
        "\n",
        "for epoch in range(1, n_epochs):\n",
        "    #keep track on the learning rate and update the learning rate with specific gamma based on the step size of epoch, learning rate annealing\n",
        "    scheduler.step()\n",
        "    # keep track of training and validation loss\n",
        "    train_loss = 0.0\n",
        "    valid_loss = 0.0\n",
        "    running_corrects = 0.0\n",
        "    \n",
        "    ###################\n",
        "    # train the model #\n",
        "    ###################\n",
        "    model.train()\n",
        "    for data, target in train_loader:\n",
        "        # move tensors to GPU if CUDA is available\n",
        "        # this loop will iterate 410x (total train images = 6552 / 16 batch size)\n",
        "        if train_on_gpu:\n",
        "            data, target = data.cuda(), target.cuda()\n",
        "        # clear the gradients of all optimized variables\n",
        "        optimizer.zero_grad()\n",
        "        #set gradien calculation on during training phase\n",
        "        torch.set_grad_enabled(True)\n",
        "        # forward pass: compute predicted outputs by passing inputs to the model\n",
        "        output = model(data)\n",
        "        # calculate the batch loss\n",
        "        loss = criterion(output, target)\n",
        "        # backward pass: compute gradient of the loss with respect to model parameters\n",
        "        loss.backward()\n",
        "        # perform a single optimization step (parameter update)\n",
        "        optimizer.step()\n",
        "        # update training loss\n",
        "        train_loss += loss.item()\n",
        "        #print('train_loss_acc:',train_loss,tracktrainnum)\n",
        "        \n",
        "    ######################    \n",
        "    # validate the model #\n",
        "    ######################\n",
        "    model.eval()\n",
        "    for data, target in valid_loader:\n",
        "        # move tensors to GPU if CUDA is available\n",
        "        if train_on_gpu:\n",
        "            data, target = data.cuda(), target.cuda()\n",
        "        #set gradien calculation off during validation phase\n",
        "        torch.set_grad_enabled(False)\n",
        "        # forward pass: compute predicted outputs by passing inputs to the model\n",
        "        output = model(data)\n",
        "        # calculate the batch loss\n",
        "        loss = criterion(output, target)\n",
        "        #calculate preds for accuracy metrics\n",
        "        _, preds = torch.max(output, 1)\n",
        "        \n",
        "        # update average validation loss \n",
        "        valid_loss += loss.item()\n",
        "        #update running validation accuracy\n",
        "        running_corrects += torch.sum(preds == target.data)\n",
        "    \n",
        "    # calculate average losses\n",
        "    train_loss = train_loss/len(train_loader.dataset)\n",
        "    valid_loss = valid_loss/len(valid_loader.dataset)\n",
        "    epoch_acc = running_corrects.double() /len(valid_loader.dataset)\n",
        "    \n",
        "    #to track the train loss and put all the values in a list to be displayed\n",
        "    train_losses.append(train_loss)\n",
        "    test_losses.append(valid_loss)\n",
        "    \n",
        "    # print training/validation statistics \n",
        "    print('Epoch: {}-{} \\tTraining Loss: {:.6f} \\tValidation Loss: {:.6f}\\tValidation Accuracy: {:.6f}'.format(\n",
        "        epoch, n_epochs, train_loss, valid_loss, epoch_acc))\n",
        "    \n",
        "    # save model if validation loss has decreased\n",
        "    if valid_loss <= valid_loss_min:\n",
        "        print('Validation loss decreased ({:.6f} --> {:.6f}).  Saving model ...'.format(\n",
        "        valid_loss_min,valid_loss))\n",
        "        torch.save(model.state_dict(), 'model_cifar.pt')\n",
        "        valid_loss_min = valid_loss\n",
        "        \n",
        "print('STARTING THE SECOND ITERATION WITH UNFREEZING THE WHOLE LAYER AND STARTING WITH A SMALLER LEARNING RATE')\n",
        "#DOING THE SECOND ITERATION WITH UNFREEZING THE WHOLE LAYER INSTEAD OF JUST THE FC(CLASSIFIER) LAYER AND START AT A SMALLER LEARNING RATE \n",
        "#TO UNFREEZE THE WEIGHTS FOR THE SECOND TIME TRAINING AND DON'T FORGET TO CHANGE THE OPTIMIZER TOO!\n",
        "for param in model.parameters():\n",
        "    param.requires_grad = True\n",
        "    \n",
        "# train the WHOLE part instead of just the classifier!, THIS IS THE SECOND ITERATION OF THE TRAINING AND REDUCE THE LEARNING RATE TOO!\n",
        "optimizer = optim.SGD(model.parameters(), lr=0.0002, momentum=0.9)\n",
        "\n",
        "n_epochs = 16 # you may increase this number to train a final model\n",
        "\n",
        "for epoch in range(1, n_epochs):\n",
        "    #keep track on the learning rate and update the learning rate with specific gamma based on the step size of epoch, learning rate annealing\n",
        "    scheduler.step()\n",
        "    # keep track of training and validation loss\n",
        "    train_loss = 0.0\n",
        "    valid_loss = 0.0\n",
        "    running_corrects = 0.0\n",
        "    \n",
        "    ###################\n",
        "    # train the model #\n",
        "    ###################\n",
        "    model.train()\n",
        "    for data, target in train_loader:\n",
        "        # move tensors to GPU if CUDA is available\n",
        "        # this loop will iterate 410x (total train images = 6552 / 16 batch size)\n",
        "        if train_on_gpu:\n",
        "            data, target = data.cuda(), target.cuda()\n",
        "        # clear the gradients of all optimized variables\n",
        "        optimizer.zero_grad()\n",
        "        #set gradien calculation on during training phase\n",
        "        torch.set_grad_enabled(True)\n",
        "        # forward pass: compute predicted outputs by passing inputs to the model\n",
        "        output = model(data)\n",
        "        # calculate the batch loss\n",
        "        loss = criterion(output, target)\n",
        "        # backward pass: compute gradient of the loss with respect to model parameters\n",
        "        loss.backward()\n",
        "        # perform a single optimization step (parameter update)\n",
        "        optimizer.step()\n",
        "        # update training loss\n",
        "        train_loss += loss.item()\n",
        "        #print('train_loss_acc:',train_loss,tracktrainnum)\n",
        "        \n",
        "    ######################    \n",
        "    # validate the model #\n",
        "    ######################\n",
        "    model.eval()\n",
        "    for data, target in valid_loader:\n",
        "        # move tensors to GPU if CUDA is available\n",
        "        if train_on_gpu:\n",
        "            data, target = data.cuda(), target.cuda()\n",
        "        #set gradien calculation off during validation phase\n",
        "        torch.set_grad_enabled(False)\n",
        "        # forward pass: compute predicted outputs by passing inputs to the model\n",
        "        output = model(data)\n",
        "        # calculate the batch loss\n",
        "        loss = criterion(output, target)\n",
        "        #calculate preds for accuracy metrics\n",
        "        _, preds = torch.max(output, 1)\n",
        "        \n",
        "        # update average validation loss \n",
        "        valid_loss += loss.item()\n",
        "        #update running validation accuracy\n",
        "        running_corrects += torch.sum(preds == target.data)\n",
        "    \n",
        "    # calculate average losses\n",
        "    train_loss = train_loss/len(train_loader.dataset)\n",
        "    valid_loss = valid_loss/len(valid_loader.dataset)\n",
        "    epoch_acc = running_corrects.double() /len(valid_loader.dataset)\n",
        "    \n",
        "    #to track the train loss and put all the values in a list to be displayed\n",
        "    train_losses.append(train_loss)\n",
        "    test_losses.append(valid_loss)\n",
        "    \n",
        "    # print training/validation statistics \n",
        "    print('Epoch: {}-{} \\tTraining Loss: {:.6f} \\tValidation Loss: {:.6f}\\tValidation Accuracy: {:.6f}'.format(\n",
        "        epoch, n_epochs, train_loss, valid_loss, epoch_acc))\n",
        "    \n",
        "    # save model if validation loss has decreased\n",
        "    if valid_loss <= valid_loss_min:\n",
        "        print('Validation loss decreased ({:.6f} --> {:.6f}).  Saving model ...'.format(\n",
        "        valid_loss_min,valid_loss))\n",
        "        torch.save(model.state_dict(), 'model_cifar_resnet152.pt')\n",
        "        valid_loss_min = valid_loss\n"
      ],
      "execution_count": null,
      "outputs": [
        {
          "output_type": "stream",
          "text": [
            "/usr/local/lib/python3.7/dist-packages/torch/optim/lr_scheduler.py:134: UserWarning: Detected call of `lr_scheduler.step()` before `optimizer.step()`. In PyTorch 1.1.0 and later, you should call them in the opposite order: `optimizer.step()` before `lr_scheduler.step()`.  Failure to do this will result in PyTorch skipping the first value of the learning rate schedule. See more details at https://pytorch.org/docs/stable/optim.html#how-to-adjust-learning-rate\n",
            "  \"https://pytorch.org/docs/stable/optim.html#how-to-adjust-learning-rate\", UserWarning)\n"
          ],
          "name": "stderr"
        },
        {
          "output_type": "stream",
          "text": [
            "Epoch: 1-16 \tTraining Loss: 0.038349 \tValidation Loss: 0.053804\tValidation Accuracy: 0.772727\n",
            "Validation loss decreased (inf --> 0.053804).  Saving model ...\n",
            "Epoch: 2-16 \tTraining Loss: 0.028259 \tValidation Loss: 0.032501\tValidation Accuracy: 0.772727\n",
            "Validation loss decreased (0.053804 --> 0.032501).  Saving model ...\n",
            "Epoch: 3-16 \tTraining Loss: 0.021466 \tValidation Loss: 0.018027\tValidation Accuracy: 0.954545\n",
            "Validation loss decreased (0.032501 --> 0.018027).  Saving model ...\n",
            "Epoch: 4-16 \tTraining Loss: 0.017044 \tValidation Loss: 0.013289\tValidation Accuracy: 1.000000\n",
            "Validation loss decreased (0.018027 --> 0.013289).  Saving model ...\n",
            "Epoch: 5-16 \tTraining Loss: 0.013710 \tValidation Loss: 0.012677\tValidation Accuracy: 1.000000\n",
            "Validation loss decreased (0.013289 --> 0.012677).  Saving model ...\n",
            "Epoch: 6-16 \tTraining Loss: 0.012081 \tValidation Loss: 0.009042\tValidation Accuracy: 1.000000\n",
            "Validation loss decreased (0.012677 --> 0.009042).  Saving model ...\n",
            "Epoch: 7-16 \tTraining Loss: 0.010924 \tValidation Loss: 0.007676\tValidation Accuracy: 1.000000\n",
            "Validation loss decreased (0.009042 --> 0.007676).  Saving model ...\n",
            "Epoch: 8-16 \tTraining Loss: 0.012625 \tValidation Loss: 0.006653\tValidation Accuracy: 1.000000\n",
            "Validation loss decreased (0.007676 --> 0.006653).  Saving model ...\n",
            "Epoch: 9-16 \tTraining Loss: 0.008952 \tValidation Loss: 0.004714\tValidation Accuracy: 1.000000\n",
            "Validation loss decreased (0.006653 --> 0.004714).  Saving model ...\n",
            "Epoch: 10-16 \tTraining Loss: 0.010387 \tValidation Loss: 0.005305\tValidation Accuracy: 1.000000\n",
            "Epoch: 11-16 \tTraining Loss: 0.007248 \tValidation Loss: 0.004726\tValidation Accuracy: 1.000000\n",
            "Epoch: 12-16 \tTraining Loss: 0.010665 \tValidation Loss: 0.005035\tValidation Accuracy: 1.000000\n",
            "Epoch: 13-16 \tTraining Loss: 0.006842 \tValidation Loss: 0.002946\tValidation Accuracy: 1.000000\n",
            "Validation loss decreased (0.004714 --> 0.002946).  Saving model ...\n",
            "Epoch: 14-16 \tTraining Loss: 0.008411 \tValidation Loss: 0.003797\tValidation Accuracy: 1.000000\n",
            "Epoch: 15-16 \tTraining Loss: 0.005581 \tValidation Loss: 0.002838\tValidation Accuracy: 1.000000\n",
            "Validation loss decreased (0.002946 --> 0.002838).  Saving model ...\n",
            "STARTING THE SECOND ITERATION WITH UNFREEZING THE WHOLE LAYER AND STARTING WITH A SMALLER LEARNING RATE\n",
            "Epoch: 1-16 \tTraining Loss: 0.007886 \tValidation Loss: 0.003643\tValidation Accuracy: 1.000000\n",
            "Epoch: 2-16 \tTraining Loss: 0.007473 \tValidation Loss: 0.003089\tValidation Accuracy: 1.000000\n",
            "Epoch: 3-16 \tTraining Loss: 0.005546 \tValidation Loss: 0.003008\tValidation Accuracy: 1.000000\n",
            "Epoch: 4-16 \tTraining Loss: 0.006480 \tValidation Loss: 0.003275\tValidation Accuracy: 1.000000\n",
            "Epoch: 5-16 \tTraining Loss: 0.007584 \tValidation Loss: 0.002386\tValidation Accuracy: 1.000000\n",
            "Validation loss decreased (0.002838 --> 0.002386).  Saving model ...\n",
            "Epoch: 6-16 \tTraining Loss: 0.005684 \tValidation Loss: 0.001817\tValidation Accuracy: 1.000000\n",
            "Validation loss decreased (0.002386 --> 0.001817).  Saving model ...\n",
            "Epoch: 7-16 \tTraining Loss: 0.007242 \tValidation Loss: 0.001889\tValidation Accuracy: 1.000000\n",
            "Epoch: 8-16 \tTraining Loss: 0.005015 \tValidation Loss: 0.001548\tValidation Accuracy: 1.000000\n",
            "Validation loss decreased (0.001817 --> 0.001548).  Saving model ...\n",
            "Epoch: 9-16 \tTraining Loss: 0.005009 \tValidation Loss: 0.001925\tValidation Accuracy: 1.000000\n",
            "Epoch: 10-16 \tTraining Loss: 0.006252 \tValidation Loss: 0.001548\tValidation Accuracy: 1.000000\n",
            "Validation loss decreased (0.001548 --> 0.001548).  Saving model ...\n",
            "Epoch: 11-16 \tTraining Loss: 0.006325 \tValidation Loss: 0.001424\tValidation Accuracy: 1.000000\n",
            "Validation loss decreased (0.001548 --> 0.001424).  Saving model ...\n",
            "Epoch: 12-16 \tTraining Loss: 0.006814 \tValidation Loss: 0.001473\tValidation Accuracy: 1.000000\n",
            "Epoch: 13-16 \tTraining Loss: 0.004909 \tValidation Loss: 0.001437\tValidation Accuracy: 1.000000\n",
            "Epoch: 14-16 \tTraining Loss: 0.003120 \tValidation Loss: 0.001343\tValidation Accuracy: 1.000000\n",
            "Validation loss decreased (0.001424 --> 0.001343).  Saving model ...\n",
            "Epoch: 15-16 \tTraining Loss: 0.004735 \tValidation Loss: 0.001062\tValidation Accuracy: 1.000000\n",
            "Validation loss decreased (0.001343 --> 0.001062).  Saving model ...\n"
          ],
          "name": "stdout"
        }
      ]
    },
    {
      "cell_type": "code",
      "metadata": {
        "id": "eMkBfB07NJb9",
        "colab": {
          "base_uri": "https://localhost:8080/",
          "height": 282
        },
        "outputId": "89a61104-407a-4177-c84c-ae041a28b19c"
      },
      "source": [
        "plt.plot(train_losses, label='Training loss')\n",
        "plt.plot(test_losses, label='Validation loss')\n",
        "plt.legend(frameon=False)"
      ],
      "execution_count": null,
      "outputs": [
        {
          "output_type": "execute_result",
          "data": {
            "text/plain": [
              "<matplotlib.legend.Legend at 0x7f38cb9e7550>"
            ]
          },
          "metadata": {
            "tags": []
          },
          "execution_count": 33
        },
        {
          "output_type": "display_data",
          "data": {
            "image/png": "[encoded data removed]",
            "text/plain": [
              "<Figure size 432x288 with 1 Axes>"
            ]
          },
          "metadata": {
            "tags": [],
            "image/png": {
              "width": 380,
              "height": 248
            },
            "needs_background": "light"
          }
        }
      ]
    },
    {
      "cell_type": "code",
      "metadata": {
        "id": "F9NkHL8PQDWP",
        "colab": {
          "base_uri": "https://localhost:8080/"
        },
        "outputId": "274a479b-54f5-42bb-b57b-2f3e9ba25653"
      },
      "source": [
        "model.load_state_dict(torch.load('model_cifar_resnet152.pt'))"
      ],
      "execution_count": null,
      "outputs": [
        {
          "output_type": "execute_result",
          "data": {
            "text/plain": [
              "<All keys matched successfully>"
            ]
          },
          "metadata": {
            "tags": []
          },
          "execution_count": 34
        }
      ]
    },
    {
      "cell_type": "code",
      "metadata": {
        "id": "ECZYfhaNcPUr",
        "colab": {
          "base_uri": "https://localhost:8080/"
        },
        "outputId": "4d0eba8b-d671-433b-f454-6aad54ab2153"
      },
      "source": [
        "test_loader.dataset"
      ],
      "execution_count": null,
      "outputs": [
        {
          "output_type": "execute_result",
          "data": {
            "text/plain": [
              "Dataset ImageFolder\n",
              "    Number of datapoints: 47\n",
              "    Root location: /content/all_data/test\n",
              "    StandardTransform\n",
              "Transform: Compose(\n",
              "               Resize(size=255, interpolation=bilinear)\n",
              "               CenterCrop(size=(224, 224))\n",
              "               ToTensor()\n",
              "               Normalize(mean=[0.485, 0.456, 0.406], std=[0.229, 0.224, 0.225])\n",
              "           )"
            ]
          },
          "metadata": {
            "tags": []
          },
          "execution_count": 35
        }
      ]
    },
    {
      "cell_type": "code",
      "metadata": {
        "id": "T9UQjG8VcYvF"
      },
      "source": [
        "def imshow(inp, title=None):\n",
        "    \"\"\"Imshow for Tensor.\"\"\"\n",
        "    # PyTorch tensors assume the color channel is the first dimension\n",
        "    # but matplotlib assumes is the third dimension\n",
        "    inp = inp.numpy().transpose((1, 2, 0))\n",
        "    \n",
        "    # Undo preprocessing\n",
        "    mean = np.array([0.485, 0.456, 0.406])\n",
        "    std = np.array([0.229, 0.224, 0.225])\n",
        "    inp = std * inp + mean\n",
        "    \n",
        "    # Image needs to be clipped between 0 and 1 or it looks like noise when displayed\n",
        "    inp = np.clip(inp, 0, 1)\n",
        "    \n",
        "    plt.imshow(inp)\n",
        "    if title is not None:\n",
        "        plt.title(title)\n",
        "    plt.pause(0.001)  # pause a bit so that plots are updated"
      ],
      "execution_count": null,
      "outputs": []
    },
    {
      "cell_type": "code",
      "metadata": {
        "id": "D8A14PyKcfom",
        "colab": {
          "base_uri": "https://localhost:8080/",
          "height": 135
        },
        "outputId": "5cd9e36d-1024-4528-c0c3-f77e1fdb8269"
      },
      "source": [
        "# Get a batch of training data\n",
        "inputs, classes = next(iter(test_loader))\n",
        "# Make a grid from batch\n",
        "out = torchvision.utils.make_grid(inputs,nrow=8)\n",
        "\n",
        "imshow(out)"
      ],
      "execution_count": null,
      "outputs": [
        {
          "output_type": "display_data",
          "data": {
            "image/png": "[encoded data removed]",
            "text/plain": [
              "<Figure size 432x288 with 1 Axes>"
            ]
          },
          "metadata": {
            "tags": [],
            "image/png": {
              "width": 377,
              "height": 118
            },
            "needs_background": "light"
          }
        }
      ]
    },
    {
      "cell_type": "code",
      "metadata": {
        "id": "OmROr48Ycqco"
      },
      "source": [
        "import PIL"
      ],
      "execution_count": null,
      "outputs": []
    },
    {
      "cell_type": "code",
      "metadata": {
        "id": "7n3Be_9NQQYG"
      },
      "source": [
        "from PIL import Image"
      ],
      "execution_count": null,
      "outputs": []
    },
    {
      "cell_type": "code",
      "metadata": {
        "id": "uvG5pztUkXMn"
      },
      "source": [
        "def process_image(image):\n",
        "    ''' Scales, crops, and normalizes a PIL image for a PyTorch model,\n",
        "        returns an Numpy array\n",
        "    '''\n",
        "    image = Image.open(image)\n",
        "    image = image.convert(\"RGB\")\n",
        "    image = test_transforms(image)\n",
        "    image = image.unsqueeze(0)\n",
        "    return image"
      ],
      "execution_count": null,
      "outputs": []
    },
    {
      "cell_type": "code",
      "metadata": {
        "id": "_0qc2adhotlO"
      },
      "source": [
        "\n",
        "\n",
        "def imshow(image, ax=None, title=None):\n",
        "    if ax is None:\n",
        "        fig, ax = plt.subplots()\n",
        "        fig.suptitle(title, fontsize=20)\n",
        "\n",
        "    \n",
        "    # PyTorch tensors assume the color channel is the first dimension\n",
        "    # but matplotlib assumes is the third dimension\n",
        "    image = np.array (image)\n",
        "    image = image.transpose((1, 2, 0))\n",
        "    \n",
        "    # Undo preprocessing\n",
        "    mean = np.array([0.485, 0.456, 0.406])\n",
        "    std = np.array([0.229, 0.224, 0.225])\n",
        "    image = std * image + mean\n",
        "    #image = np.multiply (std, image) + mean\n",
        "    \n",
        "    # Image needs to be clipped between 0 and 1 or it looks like noise when displayed\n",
        "    image = np.clip(image, 0, 1)\n",
        "    \n",
        "    ax.imshow(image)\n",
        "    \n",
        "    return ax"
      ],
      "execution_count": null,
      "outputs": []
    },
    {
      "cell_type": "code",
      "metadata": {
        "id": "_Twc5CdNjHXT"
      },
      "source": [
        "img = process_image(\"/content/dataset/Ok/nothing3_1.jpg\")"
      ],
      "execution_count": null,
      "outputs": []
    },
    {
      "cell_type": "code",
      "metadata": {
        "id": "eUNGh1HdmutF",
        "colab": {
          "base_uri": "https://localhost:8080/",
          "height": 285
        },
        "outputId": "fb60dcd5-74f1-4e2d-dba0-8da28f4bb0dc"
      },
      "source": [
        "imshow(img[0])"
      ],
      "execution_count": null,
      "outputs": [
        {
          "output_type": "execute_result",
          "data": {
            "text/plain": [
              "<matplotlib.axes._subplots.AxesSubplot at 0x7f38cac60950>"
            ]
          },
          "metadata": {
            "tags": []
          },
          "execution_count": 44
        },
        {
          "output_type": "display_data",
          "data": {
            "image/png": "[encoded data removed]",
            "text/plain": [
              "<Figure size 432x288 with 1 Axes>"
            ]
          },
          "metadata": {
            "tags": [],
            "image/png": {
              "width": 258,
              "height": 251
            },
            "needs_background": "light"
          }
        }
      ]
    },
    {
      "cell_type": "code",
      "metadata": {
        "id": "Pn8MFHqqv05X"
      },
      "source": [
        "classes_names = [\"NotOk\" , \"Ok\"]\n"
      ],
      "execution_count": null,
      "outputs": []
    },
    {
      "cell_type": "code",
      "metadata": {
        "id": "3DKJIEEEl7wh",
        "colab": {
          "base_uri": "https://localhost:8080/",
          "height": 294
        },
        "outputId": "42ab9327-a907-4c15-cd2a-bdc8b6a7b9a9"
      },
      "source": [
        "file_path = '/content/training 2/NotOk/Lime_yellow_Cart/TorusCart_lime_yellow_front1.jpg' #an example from test set\n",
        "\n",
        "img = process_image (file_path)\n",
        "img = img\n",
        "data = img.cuda()\n",
        "\n",
        "output = model.forward(data)\n",
        "_, preds = torch.max(output, 1)\n",
        "label = classes_names[preds.item()]\n",
        "        \n",
        "imshow (img[0], title=label)\n",
        "\n",
        "\n",
        "plt.show()\n",
        "\n",
        "\n",
        "\n"
      ],
      "execution_count": null,
      "outputs": [
        {
          "output_type": "display_data",
          "data": {
            "image/png": "[encoded data removed]",
            "text/plain": [
              "<Figure size 432x288 with 1 Axes>"
            ]
          },
          "metadata": {
            "tags": [],
            "image/png": {
              "width": 258,
              "height": 277
            },
            "needs_background": "light"
          }
        }
      ]
    },
    {
      "cell_type": "code",
      "metadata": {
        "id": "5TXtw9s_n8Ui"
      },
      "source": [
        ""
      ],
      "execution_count": null,
      "outputs": []
    }
  ]
}